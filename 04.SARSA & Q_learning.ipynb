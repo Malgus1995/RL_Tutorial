{
 "cells": [
  {
   "cell_type": "code",
   "execution_count": 1,
   "id": "b7f04f05",
   "metadata": {},
   "outputs": [
    {
     "name": "stdout",
     "output_type": "stream",
     "text": [
      "plt version:[3.4.3]\n",
      "gym version:[0.20.0]\n"
     ]
    }
   ],
   "source": [
    "import gym\n",
    "import numpy as np\n",
    "import matplotlib\n",
    "import matplotlib.pyplot as plt\n",
    "from IPython.display import clear_output\n",
    "%matplotlib inline\n",
    "print (\"plt version:[%s]\"%(matplotlib.__version__))\n",
    "print (\"gym version:[%s]\"%(gym.__version__))"
   ]
  },
  {
   "cell_type": "code",
   "execution_count": 2,
   "id": "ffe7703d",
   "metadata": {},
   "outputs": [],
   "source": [
    " def display_q_value(Q, title=\"Q Function\",fig_size=8,text_fs=9,title_fs=15):\n",
    "    \"\"\"\n",
    "    Display Q value\n",
    "    \"\"\"\n",
    "    n_state, n_action = Q.shape\n",
    "    nRow = 4\n",
    "    # Triangle patches for each action\n",
    "    lft_tri = np.array([[0,0],[-0.5,-0.5],[-0.5,0.5]])\n",
    "    dw_tri = np.array([[0,0],[-0.5,0.5],[0.5,0.5]])\n",
    "    up_tri = np.array([[0,0],[0.5,-0.5],[-0.5,-0.5]])\n",
    "    rgh_tri = np.array([[0,0],[0.5,0.5],[0.5,-0.5]])\n",
    "    # Color\n",
    "    high_color = np.array([1.0, 0.0, 0.0, 0.8])\n",
    "    low_color  = np.array([1.0, 1.0, 1.0, 0.8])\n",
    "    fig = plt.figure(figsize=(fig_size,fig_size))\n",
    "    plt.title(title,fontsize=title_fs)  \n",
    "    for i in range(nRow):\n",
    "        for j in range(nRow):\n",
    "            s = i*nRow+j\n",
    "            min_q = np.min(Q[s])\n",
    "            max_q = np.max(Q[s])\n",
    "            for a in range(n_action):\n",
    "                q_value = Q[s,a]\n",
    "                ratio = (q_value - min_q)/(max_q - min_q + 1e-10) \n",
    "                if ratio > 1: clr = high_color\n",
    "                elif ratio < 0: clr = low_color\n",
    "                else: clr = high_color*ratio + low_color*(1-ratio)\n",
    "                if a == 0: # Left arrow\n",
    "                    plt.gca().add_patch(plt.Polygon([j,i]+lft_tri, color=clr, ec='k'))\n",
    "                    plt.text(j-0.25, i+0.0,\"%.2f\"%(q_value),fontsize=text_fs,va='center', ha='center')\n",
    "                if a == 1: # Down arrow\n",
    "                    plt.gca().add_patch(plt.Polygon([j,i]+dw_tri, color=clr, ec='k'))\n",
    "                    plt.text(j-0.0, i+0.25,\"%.2f\"%(q_value),fontsize=text_fs,va='center', ha='center')\n",
    "                if a == 2: # Right arrow\n",
    "                    plt.gca().add_patch(plt.Polygon([j,i]+rgh_tri, color=clr, ec='k'))\n",
    "                    plt.text(j+0.25, i+0.0,\"%.2f\"%(q_value),fontsize=text_fs,va='center', ha='center')\n",
    "                if a == 3: # Up arrow\n",
    "                    plt.gca().add_patch(plt.Polygon([j,i]+up_tri, color=clr, ec='k'))\n",
    "                    plt.text(j-0.0, i-0.25,\"%.2f\"%(q_value),fontsize=text_fs,va='center', ha='center')\n",
    "    plt.xlim([-0.5,nRow-0.5])\n",
    "    plt.xticks(range(nRow))\n",
    "    plt.ylim([-0.5,nRow-0.5])\n",
    "    plt.yticks(range(nRow))\n",
    "    plt.gca().invert_yaxis()\n",
    "    plt.show()\n",
    "    \n",
    "def visualize_matrix(M,strs='',fontsize=15,cmap='turbo',title='Title',title_fs=15,\n",
    "                     fig_size=8,REMOVE_TICK_LABELS=True):\n",
    "    \"\"\"\n",
    "    Visualize a matrix colors and strings \n",
    "    \"\"\"\n",
    "    from mpl_toolkits.axes_grid1 import make_axes_locatable\n",
    "    n_row,n_col = M.shape[0],M.shape[1]\n",
    "    fig,ax = plt.subplots(figsize=(fig_size,fig_size))\n",
    "    divider = make_axes_locatable(ax)\n",
    "    im = ax.imshow(M,cmap=plt.get_cmap(cmap),extent=(0,n_col,n_row,0),\n",
    "              interpolation='nearest',aspect='equal')\n",
    "    ax.set_xticks(np.arange(0,n_col,1))\n",
    "    ax.set_yticks(np.arange(0,n_row,1))\n",
    "    ax.grid(color='w', linewidth=2)\n",
    "    ax.set_frame_on(False)\n",
    "    x,y = np.meshgrid(np.arange(0,n_col,1.0),np.arange(0,n_row,1.0))\n",
    "    if len(strs) == n_row*n_col:\n",
    "        idx = 0\n",
    "        for x_val,y_val in zip(x.flatten(), y.flatten()):\n",
    "            c = strs[idx]\n",
    "            idx = idx + 1\n",
    "            ax.text(x_val+0.5,y_val+0.5,c,va='center', ha='center',size=fontsize)\n",
    "    cax = divider.append_axes('right', size='5%', pad=0.05)            \n",
    "    fig.colorbar(im, cax=cax, orientation='vertical')\n",
    "    fig.suptitle(title,size=title_fs) \n",
    "    fig.tight_layout()\n",
    "    fig.subplots_adjust(top=0.9)\n",
    "    if REMOVE_TICK_LABELS:\n",
    "        plt.setp(ax.get_xticklabels(),visible=False)\n",
    "        plt.setp(ax.get_yticklabels(),visible=False)\n",
    "    plt.show()"
   ]
  },
  {
   "cell_type": "code",
   "execution_count": 12,
   "id": "5fca9709",
   "metadata": {},
   "outputs": [],
   "source": [
    "class SARSAAgent():\n",
    "    def __init__(self,n_state,n_action,epsilon=1,alpha=0.1,gamma=0.99):\n",
    "        self.n_state = n_state\n",
    "        self.n_action= n_action\n",
    "        self.epsilon = epsilon\n",
    "        self.alpha = alpha\n",
    "        self.gamma =gamma\n",
    "        self.Q = np.zeros([n_state,n_action])\n",
    "        \n",
    "    def update_Q(self, state,action,reward,state_prime, action_prime,done):\n",
    "        Q_old = self.Q[state,action]\n",
    "        if done :\n",
    "            td_target = reward\n",
    "        else :\n",
    "            td_target = self.gamma*self.Q[state_prime,action_prime]\n",
    "        td_error = td_target - Q_old\n",
    "        self.Q[state,action] = Q_old+self.alpha*td_error\n",
    "        \n",
    "        #choose E- greedy policy\n",
    "    def update_epsilon(self, epsilon):\n",
    "        self.epsilon = np.min([epsilon,1])\n",
    "\n",
    "    def get_action(self,state):\n",
    "        if np.random.uniform() < self.epsilon:\n",
    "            action = np.random.randint(0,high=self.n_action)\n",
    "        else:\n",
    "            action = np.argmax(self.Q[state])\n",
    "        return action\n",
    "        "
   ]
  },
  {
   "cell_type": "code",
   "execution_count": 13,
   "id": "bf574fd1",
   "metadata": {},
   "outputs": [
    {
     "name": "stdout",
     "output_type": "stream",
     "text": [
      "sarsa done.\n"
     ]
    }
   ],
   "source": [
    "env = gym.make('FrozenLake-v1')\n",
    "n_state = env.observation_space.n\n",
    "n_action = env.action_space.n\n",
    "agent = SARSAAgent(n_state,n_action,epsilon=1.0,alpha=0.1,gamma=0.999)\n",
    "\n",
    "n_episiode = 10000\n",
    "\n",
    "for e_idx in range(n_episiode):\n",
    "    state = env.reset()\n",
    "    action = agent.get_action(state)\n",
    "    done = False\n",
    "    while not done:\n",
    "        state_prime,reward,done,_ =env.step(action)\n",
    "        action_prime = agent.get_action(state_prime)\n",
    "        agent.update_Q(state,action,reward,state_prime,action_prime,done)\n",
    "        state = state_prime\n",
    "        action = action_prime\n",
    "    agent.update_epsilon(100/(e_idx+1))\n",
    "print(\"sarsa done.\")"
   ]
  },
  {
   "cell_type": "code",
   "execution_count": 14,
   "id": "c3ca05ff",
   "metadata": {},
   "outputs": [
    {
     "data": {
      "image/png": "[encoded data removed]",
      "text/plain": [
       "<Figure size 504x504 with 2 Axes>"
      ]
     },
     "metadata": {
      "needs_background": "light"
     },
     "output_type": "display_data"
    },
    {
     "data": {
      "image/png": "[encoded data removed]",
      "text/plain": [
       "<Figure size 576x576 with 1 Axes>"
      ]
     },
     "metadata": {
      "needs_background": "light"
     },
     "output_type": "display_data"
    }
   ],
   "source": [
    "# Plot env\n",
    "E = np.zeros(shape=(4,4))\n",
    "strs = ['S','F','F','F',\n",
    "        'F','H','F','H',\n",
    "        'F','F','F','H',\n",
    "        'H','F','F','G',]\n",
    "E[0,0] = 1 # Start\n",
    "E[1,1]=E[1,3]=E[2,3]=E[3,0]=2 # Hole\n",
    "E[3,3] = 3 # Goal\n",
    "visualize_matrix(E,strs=strs,cmap='Pastel1',title='FrozenLake',fig_size=7)\n",
    "\n",
    "# Plot Q\n",
    "display_q_value(agent.Q,title=\"SARSA\",\n",
    "                fig_size=8,text_fs=8,title_fs=15)"
   ]
  },
  {
   "cell_type": "code",
   "execution_count": 15,
   "id": "e2a55e39",
   "metadata": {},
   "outputs": [
    {
     "name": "stdout",
     "output_type": "stream",
     "text": [
      "\n",
      " tick:[0]\n",
      "\n",
      "\u001b[41mS\u001b[0mFFF\n",
      "FHFH\n",
      "FFFH\n",
      "HFFG\n",
      "\n",
      " tick:[1]\n",
      "  (Left)\n",
      "SFFF\n",
      "\u001b[41mF\u001b[0mHFH\n",
      "FFFH\n",
      "HFFG\n",
      "\n",
      " tick:[2]\n",
      "  (Left)\n",
      "SFFF\n",
      "\u001b[41mF\u001b[0mHFH\n",
      "FFFH\n",
      "HFFG\n",
      "\n",
      " tick:[3]\n",
      "  (Left)\n",
      "SFFF\n",
      "FHFH\n",
      "\u001b[41mF\u001b[0mFFH\n",
      "HFFG\n",
      "\n",
      " tick:[4]\n",
      "  (Up)\n",
      "SFFF\n",
      "FHFH\n",
      "\u001b[41mF\u001b[0mFFH\n",
      "HFFG\n",
      "\n",
      " tick:[5]\n",
      "  (Up)\n",
      "SFFF\n",
      "FHFH\n",
      "\u001b[41mF\u001b[0mFFH\n",
      "HFFG\n",
      "\n",
      " tick:[6]\n",
      "  (Up)\n",
      "SFFF\n",
      "\u001b[41mF\u001b[0mHFH\n",
      "FFFH\n",
      "HFFG\n",
      "\n",
      " tick:[7]\n",
      "  (Left)\n",
      "SFFF\n",
      "FHFH\n",
      "\u001b[41mF\u001b[0mFFH\n",
      "HFFG\n",
      "\n",
      " tick:[8]\n",
      "  (Up)\n",
      "SFFF\n",
      "FHFH\n",
      "\u001b[41mF\u001b[0mFFH\n",
      "HFFG\n",
      "\n",
      " tick:[9]\n",
      "  (Up)\n",
      "SFFF\n",
      "FHFH\n",
      "\u001b[41mF\u001b[0mFFH\n",
      "HFFG\n",
      "\n",
      " tick:[10]\n",
      "  (Up)\n",
      "SFFF\n",
      "FHFH\n",
      "F\u001b[41mF\u001b[0mFH\n",
      "HFFG\n",
      "\n",
      " tick:[11]\n",
      "  (Down)\n",
      "SFFF\n",
      "FHFH\n",
      "FF\u001b[41mF\u001b[0mH\n",
      "HFFG\n",
      "\n",
      " tick:[12]\n",
      "  (Left)\n",
      "SFFF\n",
      "FHFH\n",
      "FFFH\n",
      "HF\u001b[41mF\u001b[0mG\n",
      "\n",
      " tick:[13]\n",
      "  (Right)\n",
      "SFFF\n",
      "FHFH\n",
      "FFFH\n",
      "HF\u001b[41mF\u001b[0mG\n",
      "\n",
      " tick:[14]\n",
      "  (Right)\n",
      "SFFF\n",
      "FHFH\n",
      "FFFH\n",
      "HF\u001b[41mF\u001b[0mG\n",
      "  (Right)\n",
      "SFFF\n",
      "FHFH\n",
      "FFFH\n",
      "HFF\u001b[41mG\u001b[0m\n",
      "Return is [1.000]\n"
     ]
    }
   ],
   "source": [
    "# Test\n",
    "gamma = 0.99\n",
    "env = gym.make('FrozenLake-v1')\n",
    "obs = env.reset() # reset\n",
    "ret = 0\n",
    "state = 0\n",
    "for tick in range(1000):\n",
    "    print(\"\\n tick:[{}]\".format(tick))\n",
    "    env.render(mode='human')\n",
    "    action = agent.get_action(state) # select action\n",
    "    next_obs,reward,done,info = env.step(action)\n",
    "    obs = next_obs\n",
    "    ret = reward + gamma*ret \n",
    "    state = next_obs\n",
    "    if done: break\n",
    "env.render(mode='human')\n",
    "env.close()\n",
    "print (\"Return is [{:.3f}]\".format(ret))"
   ]
  },
  {
   "cell_type": "code",
   "execution_count": 36,
   "id": "921c916d",
   "metadata": {},
   "outputs": [],
   "source": [
    "from gym.envs.toy_text.cliffwalking import CliffWalkingEnv"
   ]
  },
  {
   "cell_type": "code",
   "execution_count": 37,
   "id": "365bf41f",
   "metadata": {},
   "outputs": [],
   "source": [
    "env = CliffWalkingEnv()"
   ]
  },
  {
   "cell_type": "code",
   "execution_count": 38,
   "id": "5fbb07bc",
   "metadata": {},
   "outputs": [
    {
     "name": "stdout",
     "output_type": "stream",
     "text": [
      "o  o  o  o  o  o  o  o  o  o  o  o\n",
      "o  o  o  o  o  o  o  o  o  o  o  o\n",
      "o  o  o  o  o  o  o  o  o  o  o  o\n",
      "x  C  C  C  C  C  C  C  C  C  C  T\n",
      "\n"
     ]
    }
   ],
   "source": [
    "env.render()"
   ]
  },
  {
   "cell_type": "code",
   "execution_count": 39,
   "id": "ce932a44",
   "metadata": {},
   "outputs": [
    {
     "data": {
      "text/plain": [
       "48"
      ]
     },
     "execution_count": 39,
     "metadata": {},
     "output_type": "execute_result"
    }
   ],
   "source": [
    "env.nS"
   ]
  },
  {
   "cell_type": "code",
   "execution_count": 40,
   "id": "b727fbbe",
   "metadata": {},
   "outputs": [
    {
     "data": {
      "text/plain": [
       "[(1.0, 36, -100, False)]"
      ]
     },
     "execution_count": 40,
     "metadata": {},
     "output_type": "execute_result"
    }
   ],
   "source": [
    "env.unwrapped.P[36][1]"
   ]
  },
  {
   "cell_type": "code",
   "execution_count": 41,
   "id": "a5be8d7e",
   "metadata": {},
   "outputs": [],
   "source": [
    "for s in range(48):\n",
    "    for a in range(4):\n",
    "        if env.P[s][a][0][2] == -100:\n",
    "            env.P[s][a][0] = (env.P[s][a][0][0], env.P[s][a][0][1], env.P[s][a][0][2], True)"
   ]
  },
  {
   "cell_type": "code",
   "execution_count": 42,
   "id": "d25f5689",
   "metadata": {},
   "outputs": [
    {
     "data": {
      "text/plain": [
       "[(1.0, 36, -100, True)]"
      ]
     },
     "execution_count": 42,
     "metadata": {},
     "output_type": "execute_result"
    }
   ],
   "source": [
    "env.unwrapped.P[36][1]"
   ]
  },
  {
   "cell_type": "code",
   "execution_count": 43,
   "id": "07970030",
   "metadata": {},
   "outputs": [],
   "source": [
    "n_state = env.observation_space.n\n",
    "n_action = env.action_space.n"
   ]
  },
  {
   "cell_type": "code",
   "execution_count": null,
   "id": "81feee66",
   "metadata": {},
   "outputs": [],
   "source": []
  },
  {
   "cell_type": "code",
   "execution_count": 53,
   "id": "1f4338c2",
   "metadata": {},
   "outputs": [
    {
     "name": "stdout",
     "output_type": "stream",
     "text": [
      "sarsa done.\n"
     ]
    }
   ],
   "source": [
    "from time import sleep\n",
    "n_state = env.observation_space.n\n",
    "n_action = env.action_space.n\n",
    "agent = SARSAAgent(n_state,n_action,epsilon=1.0,alpha=0.1,gamma=0.999)\n",
    "\n",
    "n_episiode = 1000\n",
    "\n",
    "for e_idx in range(n_episiode):\n",
    "    state = env.reset()\n",
    "    action = agent.get_action(state)\n",
    "    done = False\n",
    "    while not done:\n",
    "        state_prime,reward,done,_ =env.step(action)\n",
    "        action_prime = agent.get_action(state_prime)\n",
    "        agent.update_Q(state,action,reward,state_prime,action_prime,done)\n",
    "        state = state_prime\n",
    "        action = action_prime\n",
    "    agent.update_epsilon(100/(e_idx+1))\n",
    "print(\"sarsa done.\")"
   ]
  },
  {
   "cell_type": "code",
   "execution_count": 54,
   "id": "18d42974",
   "metadata": {},
   "outputs": [
    {
     "name": "stdout",
     "output_type": "stream",
     "text": [
      "o  o  o  o  o  o  o  o  o  o  o  o\n",
      "o  o  o  o  o  o  o  o  o  o  o  o\n",
      "o  o  o  o  o  o  o  o  o  o  o  o\n",
      "x  C  C  C  C  C  C  C  C  C  C  T\n",
      "\n",
      "o  o  o  o  o  o  o  o  o  o  o  o\n",
      "o  o  o  o  o  o  o  o  o  o  o  o\n",
      "o  o  o  o  o  o  o  o  o  o  o  o\n",
      "x  C  C  C  C  C  C  C  C  C  C  T\n",
      "\n",
      "o  o  o  o  o  o  o  o  o  o  o  o\n",
      "o  o  o  o  o  o  o  o  o  o  o  o\n",
      "x  o  o  o  o  o  o  o  o  o  o  o\n",
      "o  C  C  C  C  C  C  C  C  C  C  T\n",
      "\n",
      "o  o  o  o  o  o  o  o  o  o  o  o\n",
      "x  o  o  o  o  o  o  o  o  o  o  o\n",
      "o  o  o  o  o  o  o  o  o  o  o  o\n",
      "o  C  C  C  C  C  C  C  C  C  C  T\n",
      "\n",
      "x  o  o  o  o  o  o  o  o  o  o  o\n",
      "o  o  o  o  o  o  o  o  o  o  o  o\n",
      "o  o  o  o  o  o  o  o  o  o  o  o\n",
      "o  C  C  C  C  C  C  C  C  C  C  T\n",
      "\n",
      "o  x  o  o  o  o  o  o  o  o  o  o\n",
      "o  o  o  o  o  o  o  o  o  o  o  o\n",
      "o  o  o  o  o  o  o  o  o  o  o  o\n",
      "o  C  C  C  C  C  C  C  C  C  C  T\n",
      "\n",
      "o  o  x  o  o  o  o  o  o  o  o  o\n",
      "o  o  o  o  o  o  o  o  o  o  o  o\n",
      "o  o  o  o  o  o  o  o  o  o  o  o\n",
      "o  C  C  C  C  C  C  C  C  C  C  T\n",
      "\n",
      "o  o  o  x  o  o  o  o  o  o  o  o\n",
      "o  o  o  o  o  o  o  o  o  o  o  o\n",
      "o  o  o  o  o  o  o  o  o  o  o  o\n",
      "o  C  C  C  C  C  C  C  C  C  C  T\n",
      "\n",
      "o  o  o  o  x  o  o  o  o  o  o  o\n",
      "o  o  o  o  o  o  o  o  o  o  o  o\n",
      "o  o  o  o  o  o  o  o  o  o  o  o\n",
      "o  C  C  C  C  C  C  C  C  C  C  T\n",
      "\n",
      "o  o  o  o  o  x  o  o  o  o  o  o\n",
      "o  o  o  o  o  o  o  o  o  o  o  o\n",
      "o  o  o  o  o  o  o  o  o  o  o  o\n",
      "o  C  C  C  C  C  C  C  C  C  C  T\n",
      "\n",
      "o  o  o  o  o  o  x  o  o  o  o  o\n",
      "o  o  o  o  o  o  o  o  o  o  o  o\n",
      "o  o  o  o  o  o  o  o  o  o  o  o\n",
      "o  C  C  C  C  C  C  C  C  C  C  T\n",
      "\n",
      "o  o  o  o  o  o  o  x  o  o  o  o\n",
      "o  o  o  o  o  o  o  o  o  o  o  o\n",
      "o  o  o  o  o  o  o  o  o  o  o  o\n",
      "o  C  C  C  C  C  C  C  C  C  C  T\n",
      "\n",
      "o  o  o  o  o  o  o  o  x  o  o  o\n",
      "o  o  o  o  o  o  o  o  o  o  o  o\n",
      "o  o  o  o  o  o  o  o  o  o  o  o\n",
      "o  C  C  C  C  C  C  C  C  C  C  T\n",
      "\n",
      "o  o  o  o  o  o  o  o  o  x  o  o\n",
      "o  o  o  o  o  o  o  o  o  o  o  o\n",
      "o  o  o  o  o  o  o  o  o  o  o  o\n",
      "o  C  C  C  C  C  C  C  C  C  C  T\n",
      "\n",
      "o  o  o  o  o  o  o  o  o  o  x  o\n",
      "o  o  o  o  o  o  o  o  o  o  o  o\n",
      "o  o  o  o  o  o  o  o  o  o  o  o\n",
      "o  C  C  C  C  C  C  C  C  C  C  T\n",
      "\n",
      "o  o  o  o  o  o  o  o  o  o  o  x\n",
      "o  o  o  o  o  o  o  o  o  o  o  o\n",
      "o  o  o  o  o  o  o  o  o  o  o  o\n",
      "o  C  C  C  C  C  C  C  C  C  C  T\n",
      "\n",
      "o  o  o  o  o  o  o  o  o  o  x  o\n",
      "o  o  o  o  o  o  o  o  o  o  o  o\n",
      "o  o  o  o  o  o  o  o  o  o  o  o\n",
      "o  C  C  C  C  C  C  C  C  C  C  T\n",
      "\n",
      "o  o  o  o  o  o  o  o  o  o  o  x\n",
      "o  o  o  o  o  o  o  o  o  o  o  o\n",
      "o  o  o  o  o  o  o  o  o  o  o  o\n",
      "o  C  C  C  C  C  C  C  C  C  C  T\n",
      "\n",
      "o  o  o  o  o  o  o  o  o  o  o  o\n",
      "o  o  o  o  o  o  o  o  o  o  o  x\n",
      "o  o  o  o  o  o  o  o  o  o  o  o\n",
      "o  C  C  C  C  C  C  C  C  C  C  T\n",
      "\n",
      "o  o  o  o  o  o  o  o  o  o  o  o\n",
      "o  o  o  o  o  o  o  o  o  o  o  o\n",
      "o  o  o  o  o  o  o  o  o  o  o  x\n",
      "o  C  C  C  C  C  C  C  C  C  C  T\n",
      "\n",
      "o  o  o  o  o  o  o  o  o  o  o  o\n",
      "o  o  o  o  o  o  o  o  o  o  o  o\n",
      "o  o  o  o  o  o  o  o  o  o  o  o\n",
      "o  C  C  C  C  C  C  C  C  C  C  x\n",
      "\n"
     ]
    }
   ],
   "source": [
    "done = False\n",
    "state = env.reset()\n",
    "env.render()\n",
    "while not done:\n",
    "    action = agent.get_action(state)\n",
    "    next_state,reward, done,_ = env.step(action)\n",
    "    state = next_state\n",
    "    env.render()\n",
    "    sleep(1)"
   ]
  },
  {
   "cell_type": "code",
   "execution_count": 102,
   "id": "e47ce37c",
   "metadata": {},
   "outputs": [],
   "source": [
    "class Q_learningAgent:\n",
    "    def __init__(self,n_state, n_action=0.5,alpha=0.5,epsilon=1,gamma = 0.99):\n",
    "        self.n_state = n_state\n",
    "        self.n_action= n_action\n",
    "        self.epsilon = epsilon\n",
    "        self.alpha = alpha\n",
    "        self.alpha_init = alpha\n",
    "        self.epsilon_init = epsilon\n",
    "        self.gamma =gamma\n",
    "        \n",
    "        self.Q = np.zeros([n_state,n_action])\n",
    "    def update_Q(self,state,action,reward,state_prime,done):\n",
    "        Q_old = self.Q[state][action]\n",
    "        if done:\n",
    "            td_target = reward\n",
    "        else:\n",
    "            td_target = reward +self.gamma*np.max(self.Q[state_prime])\n",
    "        td_error = td_target - Q_old\n",
    "        self.Q[state,action] = Q_old +td_error*self.alpha\n",
    "    \n",
    "    def update_epsilon(self,epsilon):\n",
    "        self.epsilon = np.min([epsilon,self.epsilon_init])\n",
    "        \n",
    "    def update_alpha(self,alpha):\n",
    "        self.alpha = np.min([alpha,self.alpha_init])\n",
    "    \n",
    "    def get_action(self,state):\n",
    "        if np.random.uniform()< self.epsilon:\n",
    "            action = np.random.randint(0,high=self.n_action)\n",
    "        else:\n",
    "            action = np.argmax(self.Q[state])\n",
    "        return action\n",
    "            "
   ]
  },
  {
   "cell_type": "code",
   "execution_count": 103,
   "id": "b316810f",
   "metadata": {},
   "outputs": [],
   "source": [
    "from gym.envs.toy_text.cliffwalking import CliffWalkingEnv"
   ]
  },
  {
   "cell_type": "code",
   "execution_count": 104,
   "id": "cf2fe190",
   "metadata": {},
   "outputs": [
    {
     "name": "stdout",
     "output_type": "stream",
     "text": [
      "o  o  o  o  o  o  o  o  o  o  o  o\n",
      "o  o  o  o  o  o  o  o  o  o  o  o\n",
      "o  o  o  o  o  o  o  o  o  o  o  o\n",
      "x  C  C  C  C  C  C  C  C  C  C  T\n",
      "\n"
     ]
    }
   ],
   "source": [
    "env = CliffWalkingEnv()\n",
    "env.render()"
   ]
  },
  {
   "cell_type": "code",
   "execution_count": 105,
   "id": "4d7e7f48",
   "metadata": {},
   "outputs": [
    {
     "data": {
      "text/plain": [
       "{0: [(1.0, 24, -1, False)],\n",
       " 1: [(1.0, 36, -100, False)],\n",
       " 2: [(1.0, 36, -1, False)],\n",
       " 3: [(1.0, 36, -1, False)]}"
      ]
     },
     "execution_count": 105,
     "metadata": {},
     "output_type": "execute_result"
    }
   ],
   "source": [
    "env.unwrapped.P[36]"
   ]
  },
  {
   "cell_type": "code",
   "execution_count": 110,
   "id": "138d8cc1",
   "metadata": {},
   "outputs": [],
   "source": [
    "n_state = env.nS\n",
    "n_state = env.nA\n",
    "action_space = [\"up\", \"right\", \"down\", \"left\"]\n",
    "agent = Q_learningAgent(n_state,n_action,epsilon=1,alpha=0.1,gamma=0.99)"
   ]
  },
  {
   "cell_type": "code",
   "execution_count": 111,
   "id": "f74f0fda",
   "metadata": {},
   "outputs": [
    {
     "name": "stdout",
     "output_type": "stream",
     "text": [
      "Q-learning done.\n"
     ]
    }
   ],
   "source": [
    "n_state = env.observation_space.n\n",
    "n_action = env.action_space.n\n",
    "agent = Q_learningAgent(n_state,n_action,epsilon=1.0,alpha=0.1,gamma=0.999)\n",
    "\n",
    "# Loop\n",
    "n_episode = 1000\n",
    "for e_idx in range(n_episode):\n",
    "    state = env.reset() # reset environment, select initial \n",
    "    action = agent.get_action(state)\n",
    "    done = False\n",
    "    while not done:\n",
    "        state_prime, reward, done, info = env.step(action) # step \n",
    "        action_prime = agent.get_action(state_prime) # \n",
    "        \n",
    "        Get next action\n",
    "        agent.update_Q(state, action, reward, state_prime, done) # learns Q\n",
    "        state = state_prime\n",
    "        action = action_prime\n",
    "    agent.update_epsilon(100/(e_idx+1)) # Decaying epsilon\n",
    "print (\"Q-learning done.\")"
   ]
  },
  {
   "cell_type": "code",
   "execution_count": 113,
   "id": "f2739cd3",
   "metadata": {},
   "outputs": [
    {
     "name": "stdout",
     "output_type": "stream",
     "text": [
      "o  o  o  o  o  o  o  o  o  o  o  o\n",
      "o  o  o  o  o  o  o  o  o  o  o  o\n",
      "o  o  o  o  o  o  o  o  o  o  o  o\n",
      "x  C  C  C  C  C  C  C  C  C  C  T\n",
      "\n",
      "Action taken: up\n",
      "Transition probability: {'prob': 1.0}\n",
      "Next state: 24\n",
      "Reward recieved: -1\n",
      "Terminal state: False\n",
      "o  o  o  o  o  o  o  o  o  o  o  o\n",
      "o  o  o  o  o  o  o  o  o  o  o  o\n",
      "x  o  o  o  o  o  o  o  o  o  o  o\n",
      "o  C  C  C  C  C  C  C  C  C  C  T\n",
      "\n",
      "Action taken: right\n",
      "Transition probability: {'prob': 1.0}\n",
      "Next state: 25\n",
      "Reward recieved: -1\n",
      "Terminal state: False\n",
      "o  o  o  o  o  o  o  o  o  o  o  o\n",
      "o  o  o  o  o  o  o  o  o  o  o  o\n",
      "o  x  o  o  o  o  o  o  o  o  o  o\n",
      "o  C  C  C  C  C  C  C  C  C  C  T\n",
      "\n",
      "Action taken: right\n",
      "Transition probability: {'prob': 1.0}\n",
      "Next state: 26\n",
      "Reward recieved: -1\n",
      "Terminal state: False\n",
      "o  o  o  o  o  o  o  o  o  o  o  o\n",
      "o  o  o  o  o  o  o  o  o  o  o  o\n",
      "o  o  x  o  o  o  o  o  o  o  o  o\n",
      "o  C  C  C  C  C  C  C  C  C  C  T\n",
      "\n",
      "Action taken: right\n",
      "Transition probability: {'prob': 1.0}\n",
      "Next state: 27\n",
      "Reward recieved: -1\n",
      "Terminal state: False\n",
      "o  o  o  o  o  o  o  o  o  o  o  o\n",
      "o  o  o  o  o  o  o  o  o  o  o  o\n",
      "o  o  o  x  o  o  o  o  o  o  o  o\n",
      "o  C  C  C  C  C  C  C  C  C  C  T\n",
      "\n",
      "Action taken: right\n",
      "Transition probability: {'prob': 1.0}\n",
      "Next state: 28\n",
      "Reward recieved: -1\n",
      "Terminal state: False\n",
      "o  o  o  o  o  o  o  o  o  o  o  o\n",
      "o  o  o  o  o  o  o  o  o  o  o  o\n",
      "o  o  o  o  x  o  o  o  o  o  o  o\n",
      "o  C  C  C  C  C  C  C  C  C  C  T\n",
      "\n",
      "Action taken: right\n",
      "Transition probability: {'prob': 1.0}\n",
      "Next state: 29\n",
      "Reward recieved: -1\n",
      "Terminal state: False\n",
      "o  o  o  o  o  o  o  o  o  o  o  o\n",
      "o  o  o  o  o  o  o  o  o  o  o  o\n",
      "o  o  o  o  o  x  o  o  o  o  o  o\n",
      "o  C  C  C  C  C  C  C  C  C  C  T\n",
      "\n",
      "Action taken: right\n",
      "Transition probability: {'prob': 1.0}\n",
      "Next state: 30\n",
      "Reward recieved: -1\n",
      "Terminal state: False\n",
      "o  o  o  o  o  o  o  o  o  o  o  o\n",
      "o  o  o  o  o  o  o  o  o  o  o  o\n",
      "o  o  o  o  o  o  x  o  o  o  o  o\n",
      "o  C  C  C  C  C  C  C  C  C  C  T\n",
      "\n",
      "Action taken: right\n",
      "Transition probability: {'prob': 1.0}\n",
      "Next state: 31\n",
      "Reward recieved: -1\n",
      "Terminal state: False\n",
      "o  o  o  o  o  o  o  o  o  o  o  o\n",
      "o  o  o  o  o  o  o  o  o  o  o  o\n",
      "o  o  o  o  o  o  o  x  o  o  o  o\n",
      "o  C  C  C  C  C  C  C  C  C  C  T\n",
      "\n",
      "Action taken: right\n",
      "Transition probability: {'prob': 1.0}\n",
      "Next state: 32\n",
      "Reward recieved: -1\n",
      "Terminal state: False\n",
      "o  o  o  o  o  o  o  o  o  o  o  o\n",
      "o  o  o  o  o  o  o  o  o  o  o  o\n",
      "o  o  o  o  o  o  o  o  x  o  o  o\n",
      "o  C  C  C  C  C  C  C  C  C  C  T\n",
      "\n",
      "Action taken: right\n",
      "Transition probability: {'prob': 1.0}\n",
      "Next state: 33\n",
      "Reward recieved: -1\n",
      "Terminal state: False\n",
      "o  o  o  o  o  o  o  o  o  o  o  o\n",
      "o  o  o  o  o  o  o  o  o  o  o  o\n",
      "o  o  o  o  o  o  o  o  o  x  o  o\n",
      "o  C  C  C  C  C  C  C  C  C  C  T\n",
      "\n",
      "Action taken: right\n",
      "Transition probability: {'prob': 1.0}\n",
      "Next state: 34\n",
      "Reward recieved: -1\n",
      "Terminal state: False\n",
      "o  o  o  o  o  o  o  o  o  o  o  o\n",
      "o  o  o  o  o  o  o  o  o  o  o  o\n",
      "o  o  o  o  o  o  o  o  o  o  x  o\n",
      "o  C  C  C  C  C  C  C  C  C  C  T\n",
      "\n",
      "Action taken: right\n",
      "Transition probability: {'prob': 1.0}\n",
      "Next state: 35\n",
      "Reward recieved: -1\n",
      "Terminal state: False\n",
      "o  o  o  o  o  o  o  o  o  o  o  o\n",
      "o  o  o  o  o  o  o  o  o  o  o  o\n",
      "o  o  o  o  o  o  o  o  o  o  o  x\n",
      "o  C  C  C  C  C  C  C  C  C  C  T\n",
      "\n",
      "Action taken: down\n",
      "Transition probability: {'prob': 1.0}\n",
      "Next state: 47\n",
      "Reward recieved: -1\n",
      "Terminal state: True\n",
      "o  o  o  o  o  o  o  o  o  o  o  o\n",
      "o  o  o  o  o  o  o  o  o  o  o  o\n",
      "o  o  o  o  o  o  o  o  o  o  o  o\n",
      "o  C  C  C  C  C  C  C  C  C  C  x\n",
      "\n"
     ]
    }
   ],
   "source": [
    "is_terminal = False\n",
    "state = env.reset()\n",
    "env.render()\n",
    "while not is_terminal:\n",
    "    action = agent.get_action(state)\n",
    "    print(\"Action taken:\", action_space[action])\n",
    "    next_state, reward, is_terminal, t_prob = env.step(action)\n",
    "    print(\"Transition probability:\", t_prob)\n",
    "    print(\"Next state:\", next_state)\n",
    "    print(\"Reward recieved:\", reward)\n",
    "    print(\"Terminal state:\", is_terminal)\n",
    "    state = next_state\n",
    "    env.render()\n",
    "    sleep(1)"
   ]
  },
  {
   "cell_type": "code",
   "execution_count": null,
   "id": "2f397e77",
   "metadata": {},
   "outputs": [],
   "source": []
  }
 ],
 "metadata": {
  "kernelspec": {
   "display_name": "Python 3 (ipykernel)",
   "language": "python",
   "name": "python3"
  },
  "language_info": {
   "codemirror_mode": {
    "name": "ipython",
    "version": 3
   },
   "file_extension": ".py",
   "mimetype": "text/x-python",
   "name": "python",
   "nbconvert_exporter": "python",
   "pygments_lexer": "ipython3",
   "version": "3.8.11"
  }
 },
 "nbformat": 4,
 "nbformat_minor": 5
}
