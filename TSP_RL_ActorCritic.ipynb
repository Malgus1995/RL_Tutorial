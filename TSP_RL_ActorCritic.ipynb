{
 "cells": [
  {
   "cell_type": "code",
   "execution_count": 1,
   "id": "9fbc009f-8ee7-41cb-8ded-08836b63bd3e",
   "metadata": {},
   "outputs": [],
   "source": [
    "import os\n",
    "import torch\n",
    "import torch.nn as nn\n",
    "import torch.nn.functional as F\n",
    "import torch.optim as optim\n",
    "from torch.distributions import Categorical\n",
    "import numpy as np\n",
    "import matplotlib.pyplot as plt\n",
    "%matplotlib inline\n"
   ]
  },
  {
   "cell_type": "code",
   "execution_count": 2,
   "id": "9e2bffd7-28c0-434d-9c6e-791ff9811d2d",
   "metadata": {},
   "outputs": [],
   "source": [
    "tsp_data_txt = open('tsp_dataset.txt')"
   ]
  },
  {
   "cell_type": "code",
   "execution_count": 3,
   "id": "b3990d91-0bf8-4461-b4b5-f8a8cafe05ba",
   "metadata": {},
   "outputs": [],
   "source": [
    "lines = tsp_data_txt.readlines()"
   ]
  },
  {
   "cell_type": "code",
   "execution_count": 4,
   "id": "c10879ae-e336-4add-9642-e1698018bb01",
   "metadata": {},
   "outputs": [],
   "source": [
    "tsp_data_txt = open('tsp_dataset.txt')\n",
    "data = {}\n",
    "lines = tsp_data_txt.readlines()\n",
    "distance_matrix = np.zeros((len(lines),len(lines)))\n",
    "for i,line in enumerate(lines):\n",
    "    for j,element in enumerate((line.split('\\n')[0].split('       '))):\n",
    "        if(element == ''):\n",
    "            continue\n",
    "        \n",
    "        distance_matrix[i][j-1] = int(element.strip())\n",
    "data['distance_matrix']= distance_matrix\n",
    "data['reward_matrix'] = [1 for i  in range(0,len(distance_matrix))]\n",
    "data['depot'] = 0\n",
    "data['n_state'] = sum(list(range(1,len(distance_matrix))))\n",
    "data['n_action'] = len(distance_matrix)\n",
    "data['visited_nodes'] = []\n"
   ]
  },
  {
   "cell_type": "code",
   "execution_count": 5,
   "id": "d88b8a95-46e6-4687-b320-f40ac09de9f3",
   "metadata": {},
   "outputs": [],
   "source": [
    "for i in range(0,len(data['distance_matrix'])):\n",
    "    data['distance_matrix'][i][i] = 9999\n"
   ]
  },
  {
   "cell_type": "code",
   "execution_count": 6,
   "id": "31a753ec-78af-4e46-b3bf-3f366159f707",
   "metadata": {},
   "outputs": [],
   "source": [
    "def change_reward(envp):\n",
    "    for i in range(0,envp['n_state']):\n",
    "        for j in range(0,envp['n_action']):\n",
    "            for k in range(0,envp['n_action']):\n",
    "                if k==0:\n",
    "                    env['P'][i][j][k][2]= 10\n",
    "                    env['P'][i][j][k][3]= True\n",
    "                    break\n",
    "    return envp"
   ]
  },
  {
   "cell_type": "code",
   "execution_count": 7,
   "id": "01a11bf8-07f6-4eba-9bdf-1d64bf101fbc",
   "metadata": {},
   "outputs": [],
   "source": [
    "def initialze_value(env):\n",
    "    initial_P = 1/(env['n_action']-1)\n",
    "    env['P'] = {}\n",
    "    \n",
    "    #P[state][action] = [(prob, next state, reward, done), ...]\n",
    "    \n",
    "    for i in range(0,env['n_state']):\n",
    "        env['P'][i] ={}\n",
    "        \n",
    "        if(i==104):\n",
    "            for j in range(0,env['n_action']):\n",
    "                env['P'][i][j] = []\n",
    "                initial_P = 1/(env['n_action']-1)\n",
    "                for k in range(0,env['n_action']):\n",
    "                    if (j == env['depot'] and k == env['depot']):\n",
    "                        ini_temp = [1,k,10,True]\n",
    "                        env['P'][i][j].append(ini_temp)\n",
    "                        initial_P = 0\n",
    "                        continue\n",
    "                    ini_temp = [initial_P,k,data['reward_matrix'][k],False]\n",
    "                    env['P'][i][j].append(ini_temp)\n",
    "        else:\n",
    "            for j in range(0,env['n_action']):\n",
    "                env['P'][i][j] = []\n",
    "                for k in range(0,env['n_action']):\n",
    "                    ini_temp = [initial_P,k,data['reward_matrix'][k],False]\n",
    "                    env['P'][i][j].append(ini_temp)\n",
    "    \n",
    "    env['state'] = []\n",
    "    for si in range(0,env['n_state']):\n",
    "        env['state'].append([])\n",
    "        for n in range(0,env['n_action']):\n",
    "            env['state'][si].append(initial_P)\n",
    "    \n",
    "    env['state'] = np.asarray(env['state']).reshape((env['n_action'],-1))\n",
    "            \n",
    "    return env\n",
    "    "
   ]
  },
  {
   "cell_type": "code",
   "execution_count": 8,
   "id": "b9a9f558-75c1-4fe6-99b5-3f9da9c29f62",
   "metadata": {},
   "outputs": [],
   "source": [
    "# Hyperparameters\n",
    "learning_rate = 0.0002\n",
    "gamma         = 0.98\n",
    "\n",
    "# Run configurations\n",
    "print_every = 100\n",
    "num_episodes = 100000"
   ]
  },
  {
   "cell_type": "code",
   "execution_count": 9,
   "id": "c2ce9e81-cd17-4b0d-900b-3b79ff0d9fad",
   "metadata": {},
   "outputs": [],
   "source": [
    "class ActorCritic(nn.Module):\n",
    "    def __init__(self, n_state, n_action):\n",
    "        super(ActorCritic, self).__init__()\n",
    "        self.shared_layer = nn.Linear(n_state,256)\n",
    "        self.policy_layer = nn.Linear(256,n_action)\n",
    "        self.value_layer = nn.Linear(256,n_action)\n",
    "        self.optimizer = optim.Adam(self.parameters(), lr=learning_rate)\n",
    "        self.data = []\n",
    "        \n",
    "    def get_action_with_softmax(self,prob):\n",
    "        visited_index = []\n",
    "        prob[0][0] =  torch.tensor(float('-inf'))\n",
    "        first_index = Categorical(F.softmax(prob[0][:15])).sample()\n",
    "       \n",
    "        visited_index.append(first_index)\n",
    "        for pi,pb in enumerate(prob[1:]):    \n",
    "            if pi <13:\n",
    "                prob[pi+1][0] =  torch.tensor(float('-inf'))\n",
    "            for vi,viv in enumerate(visited_index):\n",
    "                prob[pi+1][viv] =  torch.tensor(float('-inf'))\n",
    "            temp_index = Categorical(F.softmax(prob[pi+1][:15])).sample()\n",
    "            visited_index.append(temp_index)\n",
    "        return visited_index,F.softmax(prob)\n",
    "    \n",
    "    def policy(self, state):\n",
    "        x = F.relu(self.shared_layer(state))\n",
    "        x = self.policy_layer(x)\n",
    "        return x\n",
    "    \n",
    "    def get_action(self, state):\n",
    "        prob = self.policy(torch.from_numpy(state).float())\n",
    "        return prob\n",
    "      \n",
    "    \n",
    "    def value(self, state):\n",
    "        x = F.relu(self.shared_layer(state.float()).float()).float()\n",
    "        value = self.value_layer(x).float()\n",
    "        return value\n",
    "    \n",
    "    def save(self, transition):\n",
    "        self.data.append(transition)\n",
    "        \n",
    "    \n",
    "    def get_policy_action(self,state):\n",
    "        prob = self.policy(torch.from_numpy(state).float())\n",
    "        action,sprob = self.get_action_with_softmax(prob)\n",
    "\n",
    "        return action,state,prob,self.get_reward(action)\n",
    "\n",
    "    def get_reward(self,visit_list):\n",
    "        depot =0\n",
    "        distance = torch.tensor(data['distance_matrix'])[0][visit_list[0]]\n",
    "        prev_cite = visit_list[0]\n",
    "        for i in range(1,14):\n",
    "            distance+= torch.tensor(data['distance_matrix'])[prev_cite][visit_list[i]]\n",
    "            prev_cite =visit_list[i]\n",
    "\n",
    "        distance+= torch.tensor(data['distance_matrix'])[prev_cite][visit_list[14]]\n",
    "        return distance\n",
    "    \n",
    "    def update(self):\n",
    "        action,state, prob,reward = self.data.pop()\n",
    "        self.value(torch.tensor(env['state']).float())\n",
    "        td_target = reward - self.value(torch.tensor(env['state']).float())\n",
    "        td_error = td_target - self.value(torch.tensor(env['state']).float())\n",
    "        \n",
    "        dist = self.policy(torch.tensor(env['state']).float())\n",
    "\n",
    "        action,sprob = self.get_action_with_softmax(dist)\n",
    "        loss_actor =  sprob * td_error.detach()\n",
    "\n",
    "        #loss_critic = F.smooth_l1_loss(self.value(torch.tensor(state)), td_target.detach()).float()\n",
    "        loss_critic = (self.value(torch.tensor(env['state']).float()).detach() + td_target.detach())\n",
    "        \n",
    "        loss = -1*(loss_actor + loss_critic)\n",
    "  \n",
    "        self.optimizer.zero_grad()\n",
    "        loss.mean().backward()\n",
    "        self.optimizer.step()\n",
    "        \n",
    "    def get_prob_for_update(self,ction,prob):\n",
    "        prob_list = torch.zeros((15,15))\n",
    "        for pi,pl in enumerate(prob_list):\n",
    "            prob_list[pi]+= prob[action[pi]]\n",
    "        return prob_list\n"
   ]
  },
  {
   "cell_type": "code",
   "execution_count": 10,
   "id": "2dfd4706-f278-454c-a770-e7e9b1c35d08",
   "metadata": {},
   "outputs": [],
   "source": [
    "env = initialze_value(data)"
   ]
  },
  {
   "cell_type": "code",
   "execution_count": 11,
   "id": "bbfb59f5-d6e2-4e94-a4d1-f1a7a2db77a4",
   "metadata": {},
   "outputs": [],
   "source": [
    "actor_critic = ActorCritic(n_state=105, n_action=15)"
   ]
  },
  {
   "cell_type": "code",
   "execution_count": 12,
   "id": "25edf26b-658e-4aad-b7f5-3fea708bb0c0",
   "metadata": {},
   "outputs": [],
   "source": [
    "def train(agent, env, print_every=200, num_episodes=10000, learning_rate=0.00002):\n",
    "    episodic_reward = np.zeros([num_episodes])\n",
    "    for n_epi in range(num_episodes):\n",
    "        done = False\n",
    "        state = env['state']\n",
    "        action,state,sprob,reward = agent.get_policy_action(state)\n",
    "\n",
    "        agent.save((action,state,sprob,reward))\n",
    "        episodic_reward[n_epi] += reward                     \n",
    "        agent.update()\n",
    "        if (n_epi==0) or ((n_epi+1) % print_every == 0):\n",
    "            print(\"# of episode :{}, return : {:.1f}\".format(n_epi, episodic_reward[n_epi]))\n",
    "            \n"
   ]
  },
  {
   "cell_type": "code",
   "execution_count": 13,
   "id": "be66bb69-2814-4923-b5e6-4f47fd4058b2",
   "metadata": {},
   "outputs": [
    {
     "name": "stderr",
     "output_type": "stream",
     "text": [
      "C:\\Users\\ADMINI~1\\AppData\\Local\\Temp/ipykernel_25616/34783881.py:13: UserWarning: Implicit dimension choice for softmax has been deprecated. Change the call to include dim=X as an argument.\n",
      "  first_index = Categorical(F.softmax(prob[0][:15])).sample()\n",
      "C:\\Users\\ADMINI~1\\AppData\\Local\\Temp/ipykernel_25616/34783881.py:21: UserWarning: Implicit dimension choice for softmax has been deprecated. Change the call to include dim=X as an argument.\n",
      "  temp_index = Categorical(F.softmax(prob[pi+1][:15])).sample()\n",
      "C:\\Users\\ADMINI~1\\AppData\\Local\\Temp/ipykernel_25616/34783881.py:23: UserWarning: Implicit dimension choice for softmax has been deprecated. Change the call to include dim=X as an argument.\n",
      "  return visited_index,F.softmax(prob)\n"
     ]
    },
    {
     "name": "stdout",
     "output_type": "stream",
     "text": [
      "# of episode :0, return : 687.0\n",
      "# of episode :199, return : 613.0\n",
      "# of episode :399, return : 674.0\n",
      "# of episode :599, return : 634.0\n",
      "# of episode :799, return : 721.0\n",
      "# of episode :999, return : 706.0\n",
      "# of episode :1199, return : 705.0\n",
      "# of episode :1399, return : 706.0\n",
      "# of episode :1599, return : 706.0\n",
      "# of episode :1799, return : 690.0\n",
      "# of episode :1999, return : 706.0\n",
      "# of episode :2199, return : 705.0\n",
      "# of episode :2399, return : 706.0\n",
      "# of episode :2599, return : 705.0\n",
      "# of episode :2799, return : 705.0\n",
      "# of episode :2999, return : 705.0\n",
      "# of episode :3199, return : 705.0\n",
      "# of episode :3399, return : 705.0\n",
      "# of episode :3599, return : 705.0\n",
      "# of episode :3799, return : 705.0\n",
      "# of episode :3999, return : 705.0\n",
      "# of episode :4199, return : 705.0\n",
      "# of episode :4399, return : 705.0\n",
      "# of episode :4599, return : 705.0\n",
      "# of episode :4799, return : 705.0\n",
      "# of episode :4999, return : 705.0\n",
      "# of episode :5199, return : 705.0\n",
      "# of episode :5399, return : 705.0\n",
      "# of episode :5599, return : 705.0\n",
      "# of episode :5799, return : 705.0\n",
      "# of episode :5999, return : 689.0\n",
      "# of episode :6199, return : 689.0\n",
      "# of episode :6399, return : 689.0\n",
      "# of episode :6599, return : 689.0\n",
      "# of episode :6799, return : 689.0\n",
      "# of episode :6999, return : 689.0\n",
      "# of episode :7199, return : 689.0\n",
      "# of episode :7399, return : 689.0\n",
      "# of episode :7599, return : 689.0\n",
      "# of episode :7799, return : 689.0\n",
      "# of episode :7999, return : 689.0\n",
      "# of episode :8199, return : 689.0\n",
      "# of episode :8399, return : 689.0\n",
      "# of episode :8599, return : 689.0\n",
      "# of episode :8799, return : 689.0\n",
      "# of episode :8999, return : 689.0\n",
      "# of episode :9199, return : 689.0\n",
      "# of episode :9399, return : 689.0\n",
      "# of episode :9599, return : 689.0\n",
      "# of episode :9799, return : 689.0\n",
      "# of episode :9999, return : 689.0\n"
     ]
    }
   ],
   "source": [
    "train(actor_critic, env)"
   ]
  },
  {
   "cell_type": "markdown",
   "id": "dc1ed07c-99a3-4bf1-9956-a8b2b3324f45",
   "metadata": {},
   "source": [
    "# actor_critic.get_action(state)"
   ]
  },
  {
   "cell_type": "code",
   "execution_count": 18,
   "id": "4256982a-0c6c-4c95-9d67-6bb220d1647d",
   "metadata": {},
   "outputs": [
    {
     "name": "stderr",
     "output_type": "stream",
     "text": [
      "C:\\Users\\ADMINI~1\\AppData\\Local\\Temp/ipykernel_25616/34783881.py:13: UserWarning: Implicit dimension choice for softmax has been deprecated. Change the call to include dim=X as an argument.\n",
      "  first_index = Categorical(F.softmax(prob[0][:15])).sample()\n",
      "C:\\Users\\ADMINI~1\\AppData\\Local\\Temp/ipykernel_25616/34783881.py:21: UserWarning: Implicit dimension choice for softmax has been deprecated. Change the call to include dim=X as an argument.\n",
      "  temp_index = Categorical(F.softmax(prob[pi+1][:15])).sample()\n",
      "C:\\Users\\ADMINI~1\\AppData\\Local\\Temp/ipykernel_25616/34783881.py:23: UserWarning: Implicit dimension choice for softmax has been deprecated. Change the call to include dim=X as an argument.\n",
      "  return visited_index,F.softmax(prob)\n"
     ]
    }
   ],
   "source": [
    "a,b =actor_critic.get_action_with_softmax(torch.tensor(env['state']))"
   ]
  },
  {
   "cell_type": "code",
   "execution_count": 21,
   "id": "6a9a5fbf-d862-4e52-8573-450d1d00d14a",
   "metadata": {},
   "outputs": [
    {
     "data": {
      "text/plain": [
       "[2, 1, 7, 11, 6, 10, 4, 5, 14, 8, 3, 9, 13, 12, 0]"
      ]
     },
     "execution_count": 21,
     "metadata": {},
     "output_type": "execute_result"
    }
   ],
   "source": [
    "[int(a_i) for a_i in a]"
   ]
  },
  {
   "cell_type": "code",
   "execution_count": 16,
   "id": "8fdb2650-84b2-40c4-b89b-40e2254b2520",
   "metadata": {},
   "outputs": [],
   "source": [
    "def visualize_map_route(data,tour_list=None):\n",
    "    scaled_distance_matrix = data['distance_matrix']/100\n",
    "    x_point = []\n",
    "    y_point = []\n",
    "    for di,dis in enumerate(scaled_distance_matrix[0]):\n",
    "        if di%2 ==0 :\n",
    "            x_point.append(dis-di*0.05*dis)\n",
    "            y_point.append(di*0.01*dis)\n",
    "        elif di%3==0:\n",
    "            x_point.append(dis/2)\n",
    "            y_point.append(dis/2)\n",
    "        else:\n",
    "            x_point.append(di*0.05*dis)\n",
    "            y_point.append(dis-di*0.05*dis)\n",
    "            \n",
    "    plt.plot(x_point,y_point,'bo')\n",
    "    plt.plot(x_point[0],y_point[0],'bo',color='red')\n",
    "    line_x = []\n",
    "    line_y = []\n",
    "    if tour_list!=None:\n",
    "        for tl in tour_list:\n",
    "            line_x.append(x_point[tl])\n",
    "            line_y.append(y_point[tl])\n",
    "            \n",
    "        plt.plot(line_x,line_y)"
   ]
  },
  {
   "cell_type": "code",
   "execution_count": 22,
   "id": "134939b2-57c5-4651-b2d3-29b3d99ff6c7",
   "metadata": {},
   "outputs": [
    {
     "name": "stderr",
     "output_type": "stream",
     "text": [
      "C:\\Users\\ADMINI~1\\AppData\\Local\\Temp/ipykernel_25616/2649083656.py:17: UserWarning: color is redundantly defined by the 'color' keyword argument and the fmt string \"bo\" (-> color='b'). The keyword argument will take precedence.\n",
      "  plt.plot(x_point[0],y_point[0],'bo',color='red')\n"
     ]
    },
    {
     "data": {
      "image/png": "[encoded data removed]",
      "text/plain": [
       "<Figure size 432x288 with 1 Axes>"
      ]
     },
     "metadata": {
      "needs_background": "light"
     },
     "output_type": "display_data"
    }
   ],
   "source": [
    "visualize_map_route(data,[2, 1, 7, 11, 6, 10, 4, 5, 14, 8, 3, 9, 13, 12, 0])"
   ]
  },
  {
   "cell_type": "code",
   "execution_count": 23,
   "id": "11778c44-b10d-4242-8dba-03d3318a8064",
   "metadata": {},
   "outputs": [],
   "source": [
    "def get_reward(visit_list):\n",
    "    depot =0\n",
    "    distance = (data['distance_matrix'])[0][visit_list[0]]\n",
    "    prev_cite = visit_list[0]\n",
    "    for i in range(1,14):\n",
    "        distance+= (data['distance_matrix'])[prev_cite][visit_list[i]]\n",
    "        prev_cite =visit_list[i]\n",
    "\n",
    "    distance+= (data['distance_matrix'])[prev_cite][visit_list[14]]\n",
    "    return distance"
   ]
  },
  {
   "cell_type": "code",
   "execution_count": 24,
   "id": "334ce6d0-ee1a-428f-87d8-2f40e46490b0",
   "metadata": {},
   "outputs": [
    {
     "data": {
      "text/plain": [
       "745.0"
      ]
     },
     "execution_count": 24,
     "metadata": {},
     "output_type": "execute_result"
    }
   ],
   "source": [
    "get_reward([2, 1, 7, 11, 6, 10, 4, 5, 14, 8, 3, 9, 13, 12, 0])"
   ]
  },
  {
   "cell_type": "code",
   "execution_count": null,
   "id": "f74a5c3a-a235-4d89-a90f-683350cc19e0",
   "metadata": {},
   "outputs": [],
   "source": []
  }
 ],
 "metadata": {
  "kernelspec": {
   "display_name": "Python 3",
   "language": "python",
   "name": "python3"
  },
  "language_info": {
   "codemirror_mode": {
    "name": "ipython",
    "version": 3
   },
   "file_extension": ".py",
   "mimetype": "text/x-python",
   "name": "python",
   "nbconvert_exporter": "python",
   "pygments_lexer": "ipython3",
   "version": "3.8.8"
  }
 },
 "nbformat": 4,
 "nbformat_minor": 5
}
