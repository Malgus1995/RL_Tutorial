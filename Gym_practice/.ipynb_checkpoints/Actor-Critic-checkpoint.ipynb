{
 "cells": [
  {
   "cell_type": "code",
   "execution_count": 5,
   "id": "3b47d07c-9d62-4089-9c15-3f23a74d84f0",
   "metadata": {},
   "outputs": [],
   "source": [
    "import gym\n",
    "import torch\n",
    "import torch.nn as nn\n",
    "import torch.nn.functional as F\n",
    "import torch.optim as optim\n",
    "from torch.distributions import Categorical"
   ]
  },
  {
   "cell_type": "code",
   "execution_count": 6,
   "id": "78e9240f-0674-47b5-82cf-1a9b99777ed1",
   "metadata": {},
   "outputs": [],
   "source": [
    "lr = 0.0002\n",
    "gamma = 0.99\n",
    "n_rollout =10"
   ]
  },
  {
   "cell_type": "code",
   "execution_count": 82,
   "id": "73f569ba-6907-488d-b7c6-69bc766069cd",
   "metadata": {},
   "outputs": [],
   "source": [
    "def main():\n",
    "    env = gym.make('CartPole-v1')\n",
    "    model = ActorCritic()\n",
    "    print_interval = 20\n",
    "    score = 0\n",
    "    \n",
    "    for n_epi in range(1000):\n",
    "        done = False\n",
    "        s = env.reset()\n",
    "        while not done:\n",
    "            for t in range(n_rollout):\n",
    "                prob = model.pi(torch.from_numpy(s).float())\n",
    "                \n",
    "                m = Categorical(prob)\n",
    "                #print(m)\n",
    "                a = m.sample().item()\n",
    "                #print(a)\n",
    "                s_prime,r,done,info = env.step(a)\n",
    "                model.put_data((s,a,r,s_prime,done))\n",
    "                \n",
    "                s = s_prime\n",
    "                score +=r\n",
    "                \n",
    "                if done:\n",
    "                    break\n",
    "            model.train_net()\n",
    "        if n_epi%print_interval==0 and n_epi!=0:\n",
    "            print(\"# of episode: {}, avg score : {:.1f}\".format(n_epi,score/print_interval)) \n",
    "            score =0\n",
    "    env.close()"
   ]
  },
  {
   "cell_type": "code",
   "execution_count": 126,
   "id": "d57b0a25-ded8-4865-8bee-856641736510",
   "metadata": {},
   "outputs": [],
   "source": [
    "class ActorCritic(nn.Module):\n",
    "    def __init__(self):\n",
    "        super(ActorCritic,self).__init__()\n",
    "        self.data = []\n",
    "        \n",
    "        self.fc1 = nn.Linear(4,256)\n",
    "        self.fc_pi = nn.Linear(256,2)\n",
    "        self.fc_v = nn.Linear(256,1)\n",
    "        self.optimizer = optim.Adam(self.parameters(),lr=lr)\n",
    "        \n",
    "    def pi(self,x, softmax_dim=0):\n",
    "        x= F.relu(self.fc1(x))\n",
    "        x = self.fc_pi(x)\n",
    "        prob = F.softmax(x,dim=softmax_dim)\n",
    "        return prob\n",
    "    \n",
    "    def v(self,x):\n",
    "        x = F.relu(self.fc1(x))\n",
    "        v = self.fc_v(x)\n",
    "        return v\n",
    "    \n",
    "    def put_data(self,transition):\n",
    "        self.data.append(transition)\n",
    "        \n",
    "    def make_batch(self):\n",
    "        s_lst,a_lst,r_lst,s_prime_lst,done_lst = [],[],[],[],[]\n",
    "        \n",
    "        for transition in self.data:\n",
    "            s,a,r,s_prime,done = transition\n",
    "            s_lst.append(s)\n",
    "            a_lst.append([a])\n",
    "            r_lst.append([r/100])\n",
    "            s_prime_lst.append(s_prime)\n",
    "            done_mask = 0 if done else 1\n",
    "            done_lst.append([done_mask])\n",
    "        s_batch,a_batch,r_batch,s_prime_batch,done_batch = torch.tensor(s_lst,dtype=torch.float), \\\n",
    "        torch.tensor(a_lst),torch.tensor(r_lst,dtype=torch.float),torch.tensor(s_prime,dtype=torch.float),\\\n",
    "        torch.tensor(done_lst,dtype=torch.float)\n",
    "        \n",
    "        self.data = []\n",
    "        return s_batch,a_batch,r_batch,s_prime_batch,done_batch\n",
    "    \n",
    "    def train_net(self):\n",
    "        s,a,r,s_prime,done = self.make_batch()\n",
    "        td_target = r+gamma*self.v(s_prime)*done\n",
    "        delta = td_target - self.v(s)\n",
    "        \n",
    "        pi = self.pi(s,softmax_dim=1)\n",
    "        pi_a = pi.gather(1,a)\n",
    "        loss =-torch.log(pi_a)*delta.detach() + F.smooth_l1_loss(self.v(s),td_target.detach())\n",
    "        \n",
    "        self.optimizer.zero_grad()\n",
    "        loss.mean().backward()\n",
    "        self.optimizer.step()"
   ]
  },
  {
   "cell_type": "code",
   "execution_count": 127,
   "id": "6d9b32d1-0c72-4368-9b29-5724ddbdf962",
   "metadata": {},
   "outputs": [
    {
     "name": "stdout",
     "output_type": "stream",
     "text": [
      "# of episode: 20, avg score : 23.6\n",
      "# of episode: 40, avg score : 18.4\n",
      "# of episode: 60, avg score : 23.2\n",
      "# of episode: 80, avg score : 22.0\n",
      "# of episode: 100, avg score : 22.6\n",
      "# of episode: 120, avg score : 19.1\n",
      "# of episode: 140, avg score : 33.3\n",
      "# of episode: 160, avg score : 26.4\n",
      "# of episode: 180, avg score : 26.6\n",
      "# of episode: 200, avg score : 24.6\n",
      "# of episode: 220, avg score : 26.9\n",
      "# of episode: 240, avg score : 24.7\n",
      "# of episode: 260, avg score : 29.9\n",
      "# of episode: 280, avg score : 31.7\n",
      "# of episode: 300, avg score : 32.1\n",
      "# of episode: 320, avg score : 33.4\n",
      "# of episode: 340, avg score : 34.5\n",
      "# of episode: 360, avg score : 38.0\n",
      "# of episode: 380, avg score : 41.5\n",
      "# of episode: 400, avg score : 46.0\n",
      "# of episode: 420, avg score : 46.2\n",
      "# of episode: 440, avg score : 47.5\n",
      "# of episode: 460, avg score : 46.5\n",
      "# of episode: 480, avg score : 44.4\n",
      "# of episode: 500, avg score : 56.5\n",
      "# of episode: 520, avg score : 52.0\n",
      "# of episode: 540, avg score : 54.1\n",
      "# of episode: 560, avg score : 53.2\n",
      "# of episode: 580, avg score : 55.5\n",
      "# of episode: 600, avg score : 58.6\n",
      "# of episode: 620, avg score : 54.6\n",
      "# of episode: 640, avg score : 61.5\n",
      "# of episode: 660, avg score : 52.5\n",
      "# of episode: 680, avg score : 71.8\n",
      "# of episode: 700, avg score : 49.8\n",
      "# of episode: 720, avg score : 60.0\n",
      "# of episode: 740, avg score : 66.2\n",
      "# of episode: 760, avg score : 52.2\n",
      "# of episode: 780, avg score : 56.2\n",
      "# of episode: 800, avg score : 58.4\n",
      "# of episode: 820, avg score : 65.8\n",
      "# of episode: 840, avg score : 46.7\n",
      "# of episode: 860, avg score : 62.6\n",
      "# of episode: 880, avg score : 60.4\n",
      "# of episode: 900, avg score : 61.8\n",
      "# of episode: 920, avg score : 64.4\n",
      "# of episode: 940, avg score : 60.5\n",
      "# of episode: 960, avg score : 66.7\n",
      "# of episode: 980, avg score : 58.9\n"
     ]
    }
   ],
   "source": [
    "main()"
   ]
  },
  {
   "cell_type": "code",
   "execution_count": null,
   "id": "5f69d616-2fae-4e54-bc5c-80d17df7f7b5",
   "metadata": {},
   "outputs": [],
   "source": []
  },
  {
   "cell_type": "code",
   "execution_count": 109,
   "id": "d7439a9a-0e24-42fe-aacb-7bb2041009dd",
   "metadata": {},
   "outputs": [],
   "source": [
    "env = gym.make('FrozenLake-v1')"
   ]
  },
  {
   "cell_type": "code",
   "execution_count": 110,
   "id": "ea345d24-c40d-47f8-b42f-10300cd34538",
   "metadata": {},
   "outputs": [],
   "source": [
    "s = env.reset()"
   ]
  },
  {
   "cell_type": "code",
   "execution_count": 106,
   "id": "533b0030-9e6f-48c9-a3b7-c42626ea7d80",
   "metadata": {},
   "outputs": [
    {
     "data": {
      "text/plain": [
       "Box([-4.8000002e+00 -3.4028235e+38 -4.1887903e-01 -3.4028235e+38], [4.8000002e+00 3.4028235e+38 4.1887903e-01 3.4028235e+38], (4,), float32)"
      ]
     },
     "execution_count": 106,
     "metadata": {},
     "output_type": "execute_result"
    }
   ],
   "source": [
    "env.observation_space"
   ]
  },
  {
   "cell_type": "code",
   "execution_count": null,
   "id": "56dabd6a-83eb-4e2f-bf33-b2c0992c76da",
   "metadata": {},
   "outputs": [],
   "source": []
  },
  {
   "cell_type": "code",
   "execution_count": null,
   "id": "8e91ae6b-ce2a-4962-b04b-cd9c9b24b612",
   "metadata": {},
   "outputs": [],
   "source": []
  },
  {
   "cell_type": "code",
   "execution_count": null,
   "id": "50a34d56-4caf-49d9-8823-aca0f0673f82",
   "metadata": {},
   "outputs": [],
   "source": []
  }
 ],
 "metadata": {
  "kernelspec": {
   "display_name": "Python [conda env:torch] *",
   "language": "python",
   "name": "conda-env-torch-py"
  },
  "language_info": {
   "codemirror_mode": {
    "name": "ipython",
    "version": 3
   },
   "file_extension": ".py",
   "mimetype": "text/x-python",
   "name": "python",
   "nbconvert_exporter": "python",
   "pygments_lexer": "ipython3",
   "version": "3.8.11"
  }
 },
 "nbformat": 4,
 "nbformat_minor": 5
}
