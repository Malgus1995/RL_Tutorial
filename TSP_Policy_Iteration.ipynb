{
 "cells": [
  {
   "cell_type": "code",
   "execution_count": 3,
   "id": "f807c159-be19-4207-aed0-dc2dff9efe35",
   "metadata": {},
   "outputs": [],
   "source": [
    "import os\n",
    "import numpy as np\n",
    "import gym\n",
    "import matplotlib.pyplot as plt\n",
    "%matplotlib inline\n"
   ]
  },
  {
   "cell_type": "code",
   "execution_count": 4,
   "id": "1ad18434-3ee3-4451-937c-fd356856b9a4",
   "metadata": {},
   "outputs": [],
   "source": [
    "tsp_data_txt = open('tsp_dataset.txt')"
   ]
  },
  {
   "cell_type": "code",
   "execution_count": 5,
   "id": "48d37d8e-c9f1-49c1-b990-cc70775f14dc",
   "metadata": {},
   "outputs": [],
   "source": [
    "lines = tsp_data_txt.readlines()"
   ]
  },
  {
   "cell_type": "code",
   "execution_count": 6,
   "id": "96e514d1-68a5-4b75-9ce0-d2579dae1efc",
   "metadata": {},
   "outputs": [],
   "source": [
    "tsp_data_txt = open('tsp_dataset.txt')\n",
    "data = {}\n",
    "lines = tsp_data_txt.readlines()\n",
    "distance_matrix = np.zeros((len(lines),len(lines)))\n",
    "for i,line in enumerate(lines):\n",
    "    for j,element in enumerate((line.split('\\n')[0].split('       '))):\n",
    "        if(element == ''):\n",
    "            continue\n",
    "        \n",
    "        distance_matrix[i][j-1] = int(element.strip())\n",
    "data['distance_matrix']= distance_matrix\n",
    "data['reward_matrix'] = [1 for i  in range(0,len(distance_matrix))]\n",
    "data['depot'] = 0\n",
    "data['n_state'] = len(distance_matrix)*len(distance_matrix)\n",
    "data['n_action'] = len(distance_matrix)\n",
    "data['visited_nodes'] = [0]\n"
   ]
  },
  {
   "cell_type": "code",
   "execution_count": 7,
   "id": "0ce23eea-4a2c-4d89-8b5d-02733a787b26",
   "metadata": {},
   "outputs": [],
   "source": [
    "for i in range(0,len(data['distance_matrix'])):\n",
    "    data['distance_matrix'][i][i] = 9999\n",
    "    "
   ]
  },
  {
   "cell_type": "code",
   "execution_count": 8,
   "id": "8b9a5b33-950f-4ada-ad42-e4bf87fefc6c",
   "metadata": {},
   "outputs": [],
   "source": [
    "def initialze_value(env):\n",
    "    initial_P = 1/(env['n_action']-1)\n",
    "    env['P'] = {}\n",
    "    \n",
    "    #P[state][action] = [(prob, next state, reward, done), ...]\n",
    "    \n",
    "    for i in range(0,env['n_state']):\n",
    "        env['P'][i] ={}\n",
    "        for j in range(0,env['n_action']):\n",
    "            env['P'][i][j] = []\n",
    "            for k in range(0,env['n_action']):\n",
    "                ini_temp = [initial_P,k,data['reward_matrix'][k],False]\n",
    "                env['P'][i][j].append(ini_temp)\n",
    "            \n",
    "    return env\n",
    "    "
   ]
  },
  {
   "cell_type": "code",
   "execution_count": 9,
   "id": "124744e8-c67b-44f6-bd53-9936c4d4a8be",
   "metadata": {},
   "outputs": [],
   "source": [
    "def change_reward(envp):\n",
    "    for i in range(0,envp['n_action']):\n",
    "        for j in range(0,envp['n_action']):\n",
    "            for k in range(0,envp['n_action']):\n",
    "                if k==0:\n",
    "                    env['P'][i][j][k][2]= -9999\n",
    "                    env['P'][i][j][k][3]= True\n",
    "                    break\n",
    "    return envp"
   ]
  },
  {
   "cell_type": "code",
   "execution_count": 10,
   "id": "a0e26274-70be-4c6c-9bc1-5f949d42f1ec",
   "metadata": {},
   "outputs": [],
   "source": [
    "env = initialze_value(data)"
   ]
  },
  {
   "cell_type": "code",
   "execution_count": 11,
   "id": "64001f4a-67cc-4dbe-b124-d070eb09f5bb",
   "metadata": {},
   "outputs": [],
   "source": [
    "Pi = np.random.uniform(size=(env['n_state'],env['n_action']))\n",
    "Pi = Pi/np.sum(Pi,axis=1,keepdims=True)"
   ]
  },
  {
   "cell_type": "code",
   "execution_count": 12,
   "id": "63ed362c-aa0e-4138-bc4c-d942454bf5c8",
   "metadata": {},
   "outputs": [],
   "source": [
    "def policy_evaluation(env,Pi,gamma=0.99,epsilon=1e-6):\n",
    "    \n",
    "    \n",
    "    # Extract environment information\n",
    "    n_state = env['n_state']\n",
    "    P = env['P']\n",
    "    # Random initial value function \n",
    "    V = np.random.uniform(size=(n_state,1))\n",
    "    # Loop\n",
    "    tick,V_dists,V_list = 0,[],[]\n",
    "    while True:\n",
    "        tick = tick + 1\n",
    "        V_prime = np.zeros((n_state,))\n",
    "        \n",
    "        rm_s_lst = []\n",
    "        for s in env['P'].keys(): # for all state\n",
    "            rm_a_lst = []\n",
    "            for a in env['P'][s].keys(): # for all actions\n",
    "                for prob,s_prime,reward,done in env['P'][s][a]: \n",
    "                    if(s in rm_s_lst and a in rm_a_list):\n",
    "                        prob*=0.00001\n",
    "                        reward*=-100\n",
    "                    else:\n",
    "                        prob*=10\n",
    "                        reward*=10\n",
    "                    \n",
    "                    V_prime[s] += (reward*(1/env['distance_matrix'][s//15][a])+gamma*V[s_prime]*(1/env['distance_matrix'][s//15][a]))*prob*Pi[s][a]\n",
    "                if a not in rm_a_lst:\n",
    "                    rm_a_lst.append(a)\n",
    "        if s not in rm_s_lst:\n",
    "            rm_s_lst.append(s)\n",
    "            \n",
    "        \n",
    "        V_dist = np.max(np.abs(V-V_prime))\n",
    "        V_dists.append(V_dist)\n",
    "        V = V_prime\n",
    "        V_list.append(V)\n",
    "        if V_dist < epsilon:\n",
    "            break\n",
    "        if(tick==100):\n",
    "            break\n",
    "    return V,V_dists,V_list"
   ]
  },
  {
   "cell_type": "code",
   "execution_count": 13,
   "id": "87e4f294-1c16-495b-8a3e-1dd51475ee10",
   "metadata": {},
   "outputs": [],
   "source": [
    "V,V_dists,V_list = policy_evaluation(env,Pi,gamma=0.99,epsilon=1e-6)"
   ]
  },
  {
   "cell_type": "code",
   "execution_count": null,
   "id": "02f0fdb4-18d1-4f55-851a-88648fac9adb",
   "metadata": {},
   "outputs": [],
   "source": []
  },
  {
   "cell_type": "code",
   "execution_count": 14,
   "id": "628be309-fb4f-4b6b-b459-86f300fca1c4",
   "metadata": {},
   "outputs": [
    {
     "data": {
      "text/plain": [
       "[<matplotlib.lines.Line2D at 0x26e88c34190>]"
      ]
     },
     "execution_count": 14,
     "metadata": {},
     "output_type": "execute_result"
    },
    {
     "data": {
      "image/png": "[encoded data removed]",
      "text/plain": [
       "<Figure size 432x288 with 1 Axes>"
      ]
     },
     "metadata": {
      "needs_background": "light"
     },
     "output_type": "display_data"
    }
   ],
   "source": [
    "plt.plot(V_dists)"
   ]
  },
  {
   "cell_type": "code",
   "execution_count": null,
   "id": "34e48784-0665-4d3e-8b3e-c8e7df13d14e",
   "metadata": {},
   "outputs": [],
   "source": []
  },
  {
   "cell_type": "code",
   "execution_count": 15,
   "id": "344bf9c8-1d7e-47e4-a51b-a08136580c22",
   "metadata": {},
   "outputs": [],
   "source": [
    "def policy_improvement(env,\n",
    "                       V,\n",
    "                       gamma=0.99):\n",
    "    \"\"\"\n",
    "    Policy Improvement\n",
    "    \"\"\"\n",
    "    n_state = env['n_state']\n",
    "    act_space = env['n_action']\n",
    "    n_action =  env['n_action']\n",
    "    P = env['P']\n",
    "    Q = np.zeros((n_state,n_action))\n",
    "    # Loop\n",
    "    for s in P.keys(): # for all states\n",
    "        visited_lst = []\n",
    "        for a in P[s].keys(): # for all actions\n",
    "            for prob,s_prime,reward,done in P[s][a]:\n",
    "                if a in visited_lst:\n",
    "                    prob*=0.0001\n",
    "                    reward*=0.0001\n",
    "                Q[s,a] += (reward*(1/env['distance_matrix'][s//15][a]) + gamma*V[s_prime]*(1/env['distance_matrix'][s//15][a]))*prob\n",
    "                \n",
    "                tmp_Pi=np.zeros((n_state,n_action))\n",
    "                tmp_Pi[np.arange(env['n_state']),np.argmax(Q,axis=1)] = 1\n",
    "                for p in tmp_Pi:\n",
    "                    a =np.where(p==1)[0][0]\n",
    "                    if a not in visited_lst:\n",
    "                        visited_lst.append(a)\n",
    "            if(len(visited_lst)==15):\n",
    "                visited_lst=[]\n",
    "                \n",
    "    Pi = np.zeros((n_state,n_action))\n",
    "    Pi[np.arange(n_state),np.argmax(Q,axis=1)] = 1\n",
    "    return Pi"
   ]
  },
  {
   "cell_type": "code",
   "execution_count": 16,
   "id": "62a5e8a5-74da-4cc4-8419-6f249968fa33",
   "metadata": {},
   "outputs": [],
   "source": [
    "def policy_iteration(env,gamma=0.99,epsilon=1e-6):\n",
    "    \"\"\"\n",
    "    Policy Iteration\n",
    "    \"\"\"\n",
    "    n_state = env['n_state']\n",
    "    act_space = env['n_action']\n",
    "    n_action =  env['n_action']\n",
    "    \n",
    "    Pi = np.random.uniform(size=(n_state,n_action))\n",
    "    Pi = Pi/np.sum(Pi,axis=1,keepdims=True)\n",
    "    \n",
    "    while True:\n",
    "        V,V_dists,V_list = policy_evaluation(env,Pi,gamma=gamma,epsilon=epsilon)\n",
    "        Pi_prime = policy_improvement(env,V,gamma=gamma) \n",
    "        \n",
    "        if (Pi == Pi_prime).all(): # if the policy does not change\n",
    "            break\n",
    "        Pi = Pi_prime\n",
    "    return Pi,V"
   ]
  },
  {
   "cell_type": "code",
   "execution_count": 17,
   "id": "9c0e5f41-9632-4dfc-8027-bee8ba9bd521",
   "metadata": {},
   "outputs": [],
   "source": [
    "Pi,V = policy_iteration(env)"
   ]
  },
  {
   "cell_type": "code",
   "execution_count": 18,
   "id": "27a1c539-797e-4d07-bbd3-119d5de50bd8",
   "metadata": {},
   "outputs": [
    {
     "name": "stdout",
     "output_type": "stream",
     "text": [
      "\n",
      " tick:[0]\n",
      "[0]\n",
      "\n",
      " tick:[1]\n",
      "[0, 13]\n",
      "\n",
      " tick:[2]\n",
      "[0, 13, 3]\n",
      "\n",
      " tick:[3]\n",
      "[0, 13, 3, 6]\n",
      "\n",
      " tick:[4]\n",
      "[0, 13, 3, 6, 8]\n",
      "\n",
      " tick:[5]\n",
      "[0, 13, 3, 6, 8, 1]\n",
      "\n",
      " tick:[6]\n",
      "[0, 13, 3, 6, 8, 1, 9]\n",
      "\n",
      " tick:[7]\n",
      "[0, 13, 3, 6, 8, 1, 9, 7]\n",
      "\n",
      " tick:[8]\n",
      "[0, 13, 3, 6, 8, 1, 9, 7, 11]\n",
      "\n",
      " tick:[9]\n",
      "[0, 13, 3, 6, 8, 1, 9, 7, 11, 14]\n",
      "\n",
      " tick:[10]\n",
      "[0, 13, 3, 6, 8, 1, 9, 7, 11, 14, 2]\n",
      "\n",
      " tick:[11]\n",
      "[0, 13, 3, 6, 8, 1, 9, 7, 11, 14, 2, 5]\n",
      "\n",
      " tick:[12]\n",
      "[0, 13, 3, 6, 8, 1, 9, 7, 11, 14, 2, 5, 12]\n",
      "\n",
      " tick:[13]\n",
      "[0, 13, 3, 6, 8, 1, 9, 7, 11, 14, 2, 5, 12, 4]\n"
     ]
    }
   ],
   "source": [
    "# Initialize environment\n",
    "ret = 0\n",
    "env['visited_nodes'] =[0]\n",
    "for tick in range(100):\n",
    "    obs = np.random.choice(env['n_state'],1)[0]\n",
    "    action =np.where(Pi[obs][:]==1)[0][0]\n",
    "    while action in env['visited_nodes']:\n",
    "        obs = np.random.choice(env['n_state'],1)[0] # select action\n",
    "        action =np.where(Pi[obs][:]==1)[0][0]\n",
    "        if action not in env['visited_nodes']:\n",
    "            break\n",
    "        \n",
    "    print(\"\\n tick:[{}]\".format(tick))\n",
    "    print(env['visited_nodes'])\n",
    "    env['visited_nodes'].append(action)\n",
    "    #if(len(env['visited_nodes'])==14):\n",
    "    #    env =change_reward(env)\n",
    "    #next_obs,reward,done,info = env.step(action)\n",
    "    #obs = next_obs\n",
    "    #ret = reward + gamma*ret \n",
    "    if len(env['visited_nodes']) >14:\n",
    "        break"
   ]
  },
  {
   "cell_type": "code",
   "execution_count": 19,
   "id": "283734f8-6e9f-423e-852d-9688abca7c14",
   "metadata": {},
   "outputs": [],
   "source": [
    "def visualize_map_route(data,tour_list=None):\n",
    "    scaled_distance_matrix = data['distance_matrix']/100\n",
    "    x_point = []\n",
    "    y_point = []\n",
    "    for di,dis in enumerate(scaled_distance_matrix[0]):\n",
    "        if di%2 ==0 :\n",
    "            x_point.append(dis-di*0.05*dis)\n",
    "            y_point.append(di*0.01*dis)\n",
    "        elif di%3==0:\n",
    "            x_point.append(dis/2)\n",
    "            y_point.append(dis/2)\n",
    "        else:\n",
    "            x_point.append(di*0.05*dis)\n",
    "            y_point.append(dis-di*0.05*dis)\n",
    "            \n",
    "    plt.plot(x_point,y_point,'bo')\n",
    "    plt.plot(x_point[0],y_point[0],'bo',color='red')\n",
    "    line_x = []\n",
    "    line_y = []\n",
    "    if tour_list!=None:\n",
    "        for tl in tour_list:\n",
    "            line_x.append(x_point[tl])\n",
    "            line_y.append(y_point[tl])\n",
    "            \n",
    "        plt.plot(line_x,line_y)"
   ]
  },
  {
   "cell_type": "code",
   "execution_count": 22,
   "id": "65374f24-2c72-4321-a18a-388a9262c422",
   "metadata": {},
   "outputs": [
    {
     "name": "stderr",
     "output_type": "stream",
     "text": [
      "C:\\Users\\ADMINI~1\\AppData\\Local\\Temp/ipykernel_15148/3929654237.py:17: UserWarning: color is redundantly defined by the 'color' keyword argument and the fmt string \"bo\" (-> color='b'). The keyword argument will take precedence.\n",
      "  plt.plot(x_point[0],y_point[0],'bo',color='red')\n"
     ]
    },
    {
     "data": {
      "image/png": "[encoded data removed]",
      "text/plain": [
       "<Figure size 432x288 with 1 Axes>"
      ]
     },
     "metadata": {
      "needs_background": "light"
     },
     "output_type": "display_data"
    }
   ],
   "source": [
    "visualize_map_route(data,[0, 13, 3, 6, 8, 1, 9, 7, 11, 14, 2, 5, 12, 4,0])"
   ]
  },
  {
   "cell_type": "code",
   "execution_count": 26,
   "id": "1a2f8333-5898-47f8-ac6d-5be87df00fdd",
   "metadata": {},
   "outputs": [],
   "source": [
    "def get_reward(visit_list):\n",
    "        depot =0\n",
    "        distance = (data['distance_matrix'])[0][visit_list[0]]\n",
    "        prev_cite = visit_list[0]\n",
    "        for i in range(1,14):\n",
    "            distance+= (data['distance_matrix'])[prev_cite][visit_list[i]]\n",
    "            prev_cite =visit_list[i]\n",
    "        return distance"
   ]
  },
  {
   "cell_type": "code",
   "execution_count": 27,
   "id": "54c9097e-63ba-4c1b-8e7d-4726efd2148d",
   "metadata": {},
   "outputs": [
    {
     "data": {
      "text/plain": [
       "638.0"
      ]
     },
     "execution_count": 27,
     "metadata": {},
     "output_type": "execute_result"
    }
   ],
   "source": [
    "get_reward([13, 3, 6, 8, 1, 9, 7, 11, 14, 2, 5, 12, 4,0])"
   ]
  },
  {
   "cell_type": "code",
   "execution_count": null,
   "id": "eef46560-c400-46e8-9505-8ed9bb97610e",
   "metadata": {},
   "outputs": [],
   "source": []
  }
 ],
 "metadata": {
  "kernelspec": {
   "display_name": "Python 3",
   "language": "python",
   "name": "python3"
  },
  "language_info": {
   "codemirror_mode": {
    "name": "ipython",
    "version": 3
   },
   "file_extension": ".py",
   "mimetype": "text/x-python",
   "name": "python",
   "nbconvert_exporter": "python",
   "pygments_lexer": "ipython3",
   "version": "3.8.8"
  }
 },
 "nbformat": 4,
 "nbformat_minor": 5
}
