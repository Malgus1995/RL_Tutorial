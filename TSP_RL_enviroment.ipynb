{
 "cells": [
  {
   "cell_type": "code",
   "execution_count": 22,
   "id": "f18d5e97",
   "metadata": {},
   "outputs": [
    {
     "name": "stdout",
     "output_type": "stream",
     "text": [
      "plt version:[3.4.3]\n",
      "gym version:[0.20.0]\n"
     ]
    }
   ],
   "source": [
    "import os\n",
    "import numpy as np\n",
    "import gym\n",
    "import matplotlib.pyplot as plt\n",
    "%matplotlib inline\n",
    "print (\"plt version:[{}]\".format(matplotlib.__version__))\n",
    "print (\"gym version:[{}]\".format(gym.__version__))"
   ]
  },
  {
   "cell_type": "code",
   "execution_count": null,
   "id": "bbd79804-3d86-49ab-901f-ed5bb3bce838",
   "metadata": {},
   "outputs": [],
   "source": []
  },
  {
   "cell_type": "markdown",
   "id": "f56d41cb",
   "metadata": {},
   "source": [
    "dataset :https://people.sc.fsu.edu/~jburkardt/datasets/tsp/tsp.html"
   ]
  },
  {
   "cell_type": "code",
   "execution_count": 23,
   "id": "ad962d70",
   "metadata": {},
   "outputs": [],
   "source": [
    "tsp_data_txt = open('tsp_dataset.txt')"
   ]
  },
  {
   "cell_type": "code",
   "execution_count": 24,
   "id": "0db400ed",
   "metadata": {},
   "outputs": [],
   "source": [
    "lines = tsp_data_txt.readlines()"
   ]
  },
  {
   "cell_type": "code",
   "execution_count": 25,
   "id": "2c1cf09d",
   "metadata": {},
   "outputs": [],
   "source": [
    "data = {}\n",
    "\n",
    "distance_matrix = np.zeros((len(lines),len(lines)))\n",
    "for i,line in enumerate(lines):\n",
    "    for j,element in enumerate((line.split('\\n')[0].split('       '))):\n",
    "        if(element == ''):\n",
    "            continue\n",
    "        \n",
    "        distance_matrix[i][j-1] = int(element.strip())\n",
    "data['distance_matrix']= distance_matrix\n",
    "data['num_vehicles'] = 1\n",
    "data['depot'] = 0\n"
   ]
  },
  {
   "cell_type": "code",
   "execution_count": 26,
   "id": "48c32969",
   "metadata": {},
   "outputs": [],
   "source": [
    "from ortools.constraint_solver import pywrapcp\n",
    "from ortools.constraint_solver import routing_enums_pb2"
   ]
  },
  {
   "cell_type": "code",
   "execution_count": 27,
   "id": "468b9029",
   "metadata": {},
   "outputs": [],
   "source": [
    "manager = pywrapcp.RoutingIndexManager(len(data['distance_matrix']),\n",
    "                                       data['num_vehicles'], data['depot'])\n",
    "routing = pywrapcp.RoutingModel(manager)"
   ]
  },
  {
   "cell_type": "code",
   "execution_count": 28,
   "id": "4ffb6fa1",
   "metadata": {},
   "outputs": [],
   "source": [
    "def distance_callback(from_index, to_index):\n",
    "    \"\"\"Returns the distance between the two nodes.\"\"\"\n",
    "    # Convert from routing variable Index to distance matrix NodeIndex.\n",
    "    from_node = manager.IndexToNode(from_index)\n",
    "    to_node = manager.IndexToNode(to_index)\n",
    "    return data['distance_matrix'][from_node][to_node]\n",
    "\n",
    "transit_callback_index = routing.RegisterTransitCallback(distance_callback)"
   ]
  },
  {
   "cell_type": "code",
   "execution_count": 29,
   "id": "74af0b19-b399-4093-a345-b96197411107",
   "metadata": {},
   "outputs": [],
   "source": [
    "routing.SetArcCostEvaluatorOfAllVehicles(transit_callback_index)\n",
    "search_parameters = pywrapcp.DefaultRoutingSearchParameters()\n",
    "search_parameters.first_solution_strategy = (\n",
    "    routing_enums_pb2.FirstSolutionStrategy.PATH_CHEAPEST_ARC)"
   ]
  },
  {
   "cell_type": "code",
   "execution_count": 30,
   "id": "924cd5c8-2db4-45b0-8b4e-c4c43f864e97",
   "metadata": {},
   "outputs": [],
   "source": [
    "def print_solution(manager, routing, solution):\n",
    "    \"\"\"Prints solution on console.\"\"\"\n",
    "    print('Objective: {} miles'.format(solution.ObjectiveValue()))\n",
    "    index = routing.Start(0)\n",
    "    plan_output = 'Route for vehicle 0:\\n'\n",
    "    route_distance = 0\n",
    "    while not routing.IsEnd(index):\n",
    "        plan_output += ' {} ->'.format(manager.IndexToNode(index))\n",
    "        previous_index = index\n",
    "        index = solution.Value(routing.NextVar(index))\n",
    "        route_distance += routing.GetArcCostForVehicle(previous_index, index, 0)\n",
    "    plan_output += ' {}\\n'.format(manager.IndexToNode(index))\n",
    "    print(plan_output)\n",
    "    plan_output += 'Route distance: {}miles\\n'.format(route_distance)\n",
    "    print(plan_output)"
   ]
  },
  {
   "cell_type": "markdown",
   "id": "d0efb7bf-7f58-4a30-82db-d55d6e110ca8",
   "metadata": {},
   "source": [
    "<h1>TSP OR solutions</h1>"
   ]
  },
  {
   "cell_type": "code",
   "execution_count": 31,
   "id": "8022623b-e7a5-4464-a915-7de03bd0a165",
   "metadata": {},
   "outputs": [
    {
     "name": "stdout",
     "output_type": "stream",
     "text": [
      "Objective: 291 miles\n",
      "Route for vehicle 0:\n",
      " 0 -> 12 -> 1 -> 14 -> 8 -> 4 -> 6 -> 2 -> 11 -> 13 -> 9 -> 7 -> 5 -> 3 -> 10 -> 0\n",
      "\n",
      "Route for vehicle 0:\n",
      " 0 -> 12 -> 1 -> 14 -> 8 -> 4 -> 6 -> 2 -> 11 -> 13 -> 9 -> 7 -> 5 -> 3 -> 10 -> 0\n",
      "Route distance: 291miles\n",
      "\n"
     ]
    }
   ],
   "source": [
    "solution = routing.SolveWithParameters(search_parameters)\n",
    "if solution:\n",
    "    print_solution(manager, routing, solution)"
   ]
  },
  {
   "cell_type": "code",
   "execution_count": 87,
   "id": "3140b9c9-97e0-4fd6-8f3c-13f2c8681c0a",
   "metadata": {},
   "outputs": [],
   "source": [
    "tour_list = [0,12,1,14,8 , 4 , 6 , 2 , 11 , 13 , 9, 7 , 5 , 3 , 10 , 0]\n"
   ]
  },
  {
   "cell_type": "code",
   "execution_count": 84,
   "id": "441d9851-c30f-4faa-ba31-1b5537ef3048",
   "metadata": {},
   "outputs": [],
   "source": [
    "def visualize_map_route(data,tour_list=None):\n",
    "    scaled_distance_matrix = data['distance_matrix']/100\n",
    "    x_point = []\n",
    "    y_point = []\n",
    "    for di,dis in enumerate(scaled_distance_matrix[0]):\n",
    "        if di%2 ==0 :\n",
    "            x_point.append(dis-di*0.05*dis)\n",
    "            y_point.append(di*0.01*dis)\n",
    "        elif di%3==0:\n",
    "            x_point.append(dis/2)\n",
    "            y_point.append(dis/2)\n",
    "        else:\n",
    "            x_point.append(di*0.05*dis)\n",
    "            y_point.append(dis-di*0.05*dis)\n",
    "            \n",
    "    plt.plot(x_point,y_point,'bo')\n",
    "    plt.plot(x_point[0],y_point[0],'bo',color='red')\n",
    "    line_x = []\n",
    "    line_y = []\n",
    "    if tour_list!=None:\n",
    "        for tl in tour_list:\n",
    "            line_x.append(x_point[tl])\n",
    "            line_y.append(y_point[tl])\n",
    "            \n",
    "        plt.plot(line_x,line_y)"
   ]
  },
  {
   "cell_type": "code",
   "execution_count": 88,
   "id": "3efc0169-fa62-4d97-a03e-3b3503ddd4a5",
   "metadata": {},
   "outputs": [
    {
     "name": "stderr",
     "output_type": "stream",
     "text": [
      "C:\\Users\\ADMINI~1\\AppData\\Local\\Temp/ipykernel_17588/2649083656.py:17: UserWarning: color is redundantly defined by the 'color' keyword argument and the fmt string \"bo\" (-> color='b'). The keyword argument will take precedence.\n",
      "  plt.plot(x_point[0],y_point[0],'bo',color='red')\n"
     ]
    },
    {
     "data": {
      "image/png": "[encoded data removed]",
      "text/plain": [
       "<Figure size 432x288 with 1 Axes>"
      ]
     },
     "metadata": {
      "needs_background": "light"
     },
     "output_type": "display_data"
    }
   ],
   "source": [
    "visualize_map_route(data,tour_list)"
   ]
  },
  {
   "cell_type": "code",
   "execution_count": 44,
   "id": "6fd4acba-c8ec-4c1e-9a40-2054499de19a",
   "metadata": {},
   "outputs": [],
   "source": [
    "coordinate_list = []"
   ]
  },
  {
   "cell_type": "code",
   "execution_count": 67,
   "id": "c2ff176e-b8e5-427e-959f-6b43ddce370a",
   "metadata": {},
   "outputs": [
    {
     "name": "stdout",
     "output_type": "stream",
     "text": [
      "[0.   0.29 0.82 0.46 0.68 0.52 0.72 0.42 0.51 0.55 0.29 0.74 0.23 0.72\n",
      " 0.46]\n",
      "[0.29 0.   0.55 0.46 0.42 0.43 0.43 0.23 0.23 0.31 0.41 0.51 0.11 0.52\n",
      " 0.21]\n",
      "[0.82 0.55 0.   0.68 0.46 0.55 0.23 0.43 0.41 0.29 0.79 0.21 0.64 0.31\n",
      " 0.51]\n",
      "[0.46 0.46 0.68 0.   0.82 0.15 0.72 0.31 0.62 0.42 0.21 0.51 0.51 0.43\n",
      " 0.64]\n",
      "[0.68 0.42 0.46 0.82 0.   0.74 0.23 0.52 0.21 0.46 0.82 0.58 0.46 0.65\n",
      " 0.23]\n",
      "[0.52 0.43 0.55 0.15 0.74 0.   0.61 0.23 0.55 0.31 0.33 0.37 0.51 0.29\n",
      " 0.59]\n",
      "[0.72 0.43 0.23 0.72 0.23 0.61 0.   0.42 0.23 0.31 0.77 0.37 0.51 0.46\n",
      " 0.33]\n",
      "[0.42 0.23 0.43 0.31 0.52 0.23 0.42 0.   0.33 0.15 0.37 0.33 0.33 0.31\n",
      " 0.37]\n",
      "[0.51 0.23 0.41 0.62 0.21 0.55 0.23 0.33 0.   0.29 0.62 0.46 0.29 0.51\n",
      " 0.11]\n",
      "[0.55 0.31 0.29 0.42 0.46 0.31 0.31 0.15 0.29 0.   0.51 0.21 0.41 0.23\n",
      " 0.37]\n",
      "[0.29 0.41 0.79 0.21 0.82 0.33 0.77 0.37 0.62 0.51 0.   0.65 0.42 0.59\n",
      " 0.61]\n",
      "[0.74 0.51 0.21 0.51 0.58 0.37 0.37 0.33 0.46 0.21 0.65 0.   0.61 0.11\n",
      " 0.55]\n",
      "[0.23 0.11 0.64 0.51 0.46 0.51 0.51 0.33 0.29 0.41 0.42 0.61 0.   0.62\n",
      " 0.23]\n",
      "[0.72 0.52 0.31 0.43 0.65 0.29 0.46 0.31 0.51 0.23 0.59 0.11 0.62 0.\n",
      " 0.59]\n",
      "[0.46 0.21 0.51 0.64 0.23 0.59 0.33 0.37 0.11 0.37 0.61 0.55 0.23 0.59\n",
      " 0.  ]\n"
     ]
    }
   ],
   "source": [
    "for a in scaled_distance_matrix:\n",
    "    print(a)"
   ]
  },
  {
   "cell_type": "code",
   "execution_count": 89,
   "id": "cc69754c-54b6-446f-96aa-6bfe2ea41f94",
   "metadata": {},
   "outputs": [
    {
     "data": {
      "text/plain": [
       "array([[ 0., 29., 82., 46., 68., 52., 72., 42., 51., 55., 29., 74., 23.,\n",
       "        72., 46.],\n",
       "       [29.,  0., 55., 46., 42., 43., 43., 23., 23., 31., 41., 51., 11.,\n",
       "        52., 21.],\n",
       "       [82., 55.,  0., 68., 46., 55., 23., 43., 41., 29., 79., 21., 64.,\n",
       "        31., 51.],\n",
       "       [46., 46., 68.,  0., 82., 15., 72., 31., 62., 42., 21., 51., 51.,\n",
       "        43., 64.],\n",
       "       [68., 42., 46., 82.,  0., 74., 23., 52., 21., 46., 82., 58., 46.,\n",
       "        65., 23.],\n",
       "       [52., 43., 55., 15., 74.,  0., 61., 23., 55., 31., 33., 37., 51.,\n",
       "        29., 59.],\n",
       "       [72., 43., 23., 72., 23., 61.,  0., 42., 23., 31., 77., 37., 51.,\n",
       "        46., 33.],\n",
       "       [42., 23., 43., 31., 52., 23., 42.,  0., 33., 15., 37., 33., 33.,\n",
       "        31., 37.],\n",
       "       [51., 23., 41., 62., 21., 55., 23., 33.,  0., 29., 62., 46., 29.,\n",
       "        51., 11.],\n",
       "       [55., 31., 29., 42., 46., 31., 31., 15., 29.,  0., 51., 21., 41.,\n",
       "        23., 37.],\n",
       "       [29., 41., 79., 21., 82., 33., 77., 37., 62., 51.,  0., 65., 42.,\n",
       "        59., 61.],\n",
       "       [74., 51., 21., 51., 58., 37., 37., 33., 46., 21., 65.,  0., 61.,\n",
       "        11., 55.],\n",
       "       [23., 11., 64., 51., 46., 51., 51., 33., 29., 41., 42., 61.,  0.,\n",
       "        62., 23.],\n",
       "       [72., 52., 31., 43., 65., 29., 46., 31., 51., 23., 59., 11., 62.,\n",
       "         0., 59.],\n",
       "       [46., 21., 51., 64., 23., 59., 33., 37., 11., 37., 61., 55., 23.,\n",
       "        59.,  0.]])"
      ]
     },
     "execution_count": 89,
     "metadata": {},
     "output_type": "execute_result"
    }
   ],
   "source": [
    "distance_matrix"
   ]
  },
  {
   "cell_type": "code",
   "execution_count": null,
   "id": "242b189f-b6f1-4ca5-8751-54bfe5c68041",
   "metadata": {},
   "outputs": [],
   "source": []
  }
 ],
 "metadata": {
  "kernelspec": {
   "display_name": "Python 3",
   "language": "python",
   "name": "python3"
  },
  "language_info": {
   "codemirror_mode": {
    "name": "ipython",
    "version": 3
   },
   "file_extension": ".py",
   "mimetype": "text/x-python",
   "name": "python",
   "nbconvert_exporter": "python",
   "pygments_lexer": "ipython3",
   "version": "3.8.8"
  }
 },
 "nbformat": 4,
 "nbformat_minor": 5
}
