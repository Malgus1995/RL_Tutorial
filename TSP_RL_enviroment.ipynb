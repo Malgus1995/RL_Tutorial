{
 "cells": [
  {
   "cell_type": "code",
   "execution_count": 4,
   "id": "f18d5e97",
   "metadata": {},
   "outputs": [
    {
     "name": "stdout",
     "output_type": "stream",
     "text": [
      "plt version:[3.4.3]\n"
     ]
    },
    {
     "ename": "NameError",
     "evalue": "name 'gym' is not defined",
     "output_type": "error",
     "traceback": [
      "\u001b[1;31m---------------------------------------------------------------------------\u001b[0m",
      "\u001b[1;31mNameError\u001b[0m                                 Traceback (most recent call last)",
      "\u001b[1;32mC:\\Users\\ADMINI~1\\AppData\\Local\\Temp/ipykernel_19860/2087820979.py\u001b[0m in \u001b[0;36m<module>\u001b[1;34m\u001b[0m\n\u001b[0;32m      6\u001b[0m \u001b[0mget_ipython\u001b[0m\u001b[1;33m(\u001b[0m\u001b[1;33m)\u001b[0m\u001b[1;33m.\u001b[0m\u001b[0mrun_line_magic\u001b[0m\u001b[1;33m(\u001b[0m\u001b[1;34m'matplotlib'\u001b[0m\u001b[1;33m,\u001b[0m \u001b[1;34m'inline'\u001b[0m\u001b[1;33m)\u001b[0m\u001b[1;33m\u001b[0m\u001b[1;33m\u001b[0m\u001b[0m\n\u001b[0;32m      7\u001b[0m \u001b[0mprint\u001b[0m \u001b[1;33m(\u001b[0m\u001b[1;34m\"plt version:[{}]\"\u001b[0m\u001b[1;33m.\u001b[0m\u001b[0mformat\u001b[0m\u001b[1;33m(\u001b[0m\u001b[0mmatplotlib\u001b[0m\u001b[1;33m.\u001b[0m\u001b[0m__version__\u001b[0m\u001b[1;33m)\u001b[0m\u001b[1;33m)\u001b[0m\u001b[1;33m\u001b[0m\u001b[1;33m\u001b[0m\u001b[0m\n\u001b[1;32m----> 8\u001b[1;33m \u001b[0mprint\u001b[0m \u001b[1;33m(\u001b[0m\u001b[1;34m\"gym version:[{}]\"\u001b[0m\u001b[1;33m.\u001b[0m\u001b[0mformat\u001b[0m\u001b[1;33m(\u001b[0m\u001b[0mgym\u001b[0m\u001b[1;33m.\u001b[0m\u001b[0m__version__\u001b[0m\u001b[1;33m)\u001b[0m\u001b[1;33m)\u001b[0m\u001b[1;33m\u001b[0m\u001b[1;33m\u001b[0m\u001b[0m\n\u001b[0m",
      "\u001b[1;31mNameError\u001b[0m: name 'gym' is not defined"
     ]
    }
   ],
   "source": [
    "import pandas as pd\n",
    "import os\n",
    "import numpy as np\n",
    "import matplotlib\n",
    "import matplotlib.pyplot as plt\n",
    "%matplotlib inline\n",
    "print (\"plt version:[{}]\".format(matplotlib.__version__))\n",
    "print (\"gym version:[{}]\".format(gym.__version__))"
   ]
  },
  {
   "cell_type": "markdown",
   "id": "f56d41cb",
   "metadata": {},
   "source": [
    "dataset :https://people.sc.fsu.edu/~jburkardt/datasets/tsp/tsp.html"
   ]
  },
  {
   "cell_type": "code",
   "execution_count": 5,
   "id": "ad962d70",
   "metadata": {},
   "outputs": [],
   "source": [
    "tsp_data_txt = open('tsp_dataset.txt')"
   ]
  },
  {
   "cell_type": "code",
   "execution_count": 6,
   "id": "0db400ed",
   "metadata": {},
   "outputs": [],
   "source": [
    "lines = tsp_data_txt.readlines()"
   ]
  },
  {
   "cell_type": "code",
   "execution_count": 7,
   "id": "2c1cf09d",
   "metadata": {},
   "outputs": [],
   "source": [
    "coordinate_maps = np.zeros((len(lines),len(lines)))"
   ]
  },
  {
   "cell_type": "code",
   "execution_count": 8,
   "id": "48c32969",
   "metadata": {},
   "outputs": [],
   "source": [
    "for i,line in enumerate(lines):\n",
    "    for j,element in enumerate((line.split('\\n')[0].split('       '))):\n",
    "        if(element == ''):\n",
    "            continue\n",
    "        \n",
    "        coordinate_maps[i][j-1] = int(element.strip())"
   ]
  },
  {
   "cell_type": "code",
   "execution_count": 9,
   "id": "468b9029",
   "metadata": {},
   "outputs": [
    {
     "data": {
      "text/plain": [
       "array([[ 0., 29., 82., 46., 68., 52., 72., 42., 51., 55., 29., 74., 23.,\n",
       "        72., 46.],\n",
       "       [29.,  0., 55., 46., 42., 43., 43., 23., 23., 31., 41., 51., 11.,\n",
       "        52., 21.],\n",
       "       [82., 55.,  0., 68., 46., 55., 23., 43., 41., 29., 79., 21., 64.,\n",
       "        31., 51.],\n",
       "       [46., 46., 68.,  0., 82., 15., 72., 31., 62., 42., 21., 51., 51.,\n",
       "        43., 64.],\n",
       "       [68., 42., 46., 82.,  0., 74., 23., 52., 21., 46., 82., 58., 46.,\n",
       "        65., 23.],\n",
       "       [52., 43., 55., 15., 74.,  0., 61., 23., 55., 31., 33., 37., 51.,\n",
       "        29., 59.],\n",
       "       [72., 43., 23., 72., 23., 61.,  0., 42., 23., 31., 77., 37., 51.,\n",
       "        46., 33.],\n",
       "       [42., 23., 43., 31., 52., 23., 42.,  0., 33., 15., 37., 33., 33.,\n",
       "        31., 37.],\n",
       "       [51., 23., 41., 62., 21., 55., 23., 33.,  0., 29., 62., 46., 29.,\n",
       "        51., 11.],\n",
       "       [55., 31., 29., 42., 46., 31., 31., 15., 29.,  0., 51., 21., 41.,\n",
       "        23., 37.],\n",
       "       [29., 41., 79., 21., 82., 33., 77., 37., 62., 51.,  0., 65., 42.,\n",
       "        59., 61.],\n",
       "       [74., 51., 21., 51., 58., 37., 37., 33., 46., 21., 65.,  0., 61.,\n",
       "        11., 55.],\n",
       "       [23., 11., 64., 51., 46., 51., 51., 33., 29., 41., 42., 61.,  0.,\n",
       "        62., 23.],\n",
       "       [72., 52., 31., 43., 65., 29., 46., 31., 51., 23., 59., 11., 62.,\n",
       "         0., 59.],\n",
       "       [46., 21., 51., 64., 23., 59., 33., 37., 11., 37., 61., 55., 23.,\n",
       "        59.,  0.]])"
      ]
     },
     "execution_count": 9,
     "metadata": {},
     "output_type": "execute_result"
    }
   ],
   "source": [
    "coordinate_maps"
   ]
  },
  {
   "cell_type": "code",
   "execution_count": null,
   "id": "4ffb6fa1",
   "metadata": {},
   "outputs": [],
   "source": []
  }
 ],
 "metadata": {
  "kernelspec": {
   "display_name": "Python 3 (ipykernel)",
   "language": "python",
   "name": "python3"
  },
  "language_info": {
   "codemirror_mode": {
    "name": "ipython",
    "version": 3
   },
   "file_extension": ".py",
   "mimetype": "text/x-python",
   "name": "python",
   "nbconvert_exporter": "python",
   "pygments_lexer": "ipython3",
   "version": "3.8.11"
  }
 },
 "nbformat": 4,
 "nbformat_minor": 5
}
