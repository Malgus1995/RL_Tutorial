{
 "cells": [
  {
   "cell_type": "code",
   "execution_count": 952,
   "id": "bbed1769-f468-45ff-ba0b-1ac10ddfb90c",
   "metadata": {},
   "outputs": [],
   "source": [
    "import os\n",
    "import numpy as np\n",
    "import matplotlib.pyplot as plt"
   ]
  },
  {
   "cell_type": "code",
   "execution_count": 953,
   "id": "afcc5892-f030-4a5d-b8fe-2f28d2da34d7",
   "metadata": {},
   "outputs": [],
   "source": [
    "tsp_data_txt = open('tsp_dataset.txt')\n",
    "data = {}\n",
    "lines = tsp_data_txt.readlines()\n",
    "distance_matrix = np.zeros((len(lines),len(lines)))\n",
    "for i,line in enumerate(lines):\n",
    "    for j,element in enumerate((line.split('\\n')[0].split('       '))):\n",
    "        if(element == ''):\n",
    "            continue\n",
    "        \n",
    "        distance_matrix[i][j-1] = int(element.strip())\n",
    "data['distance_matrix']= distance_matrix\n",
    "data['reward_matrix'] = [1 for i  in range(0,len(distance_matrix))]\n",
    "data['depot'] = 0\n",
    "data['n_state'] = len(distance_matrix)*len(distance_matrix)\n",
    "data['n_action'] = len(distance_matrix)\n",
    "data['visited_nodes'] = [0]\n"
   ]
  },
  {
   "cell_type": "code",
   "execution_count": 954,
   "id": "da878dbf-0a2d-47de-8a0e-d4de9dba9539",
   "metadata": {},
   "outputs": [],
   "source": [
    "for i in range(0,len(data['distance_matrix'])):\n",
    "    data['distance_matrix'][i][i] = 9999\n",
    "    "
   ]
  },
  {
   "cell_type": "code",
   "execution_count": 955,
   "id": "546fa8fa-72fe-4432-9ceb-37c429585153",
   "metadata": {},
   "outputs": [],
   "source": [
    "def initialze_value(env):\n",
    "    initial_P = 1/(env['n_action']-1)\n",
    "    env['P'] = {}\n",
    "    \n",
    "    #P[state][action] = [(prob, next state, reward, done), ...]\n",
    "    \n",
    "    for i in range(0,env['n_state']):\n",
    "        env['P'][i] ={}\n",
    "        for j in range(0,env['n_action']):\n",
    "            env['P'][i][j] = []\n",
    "            for k in range(0,env['n_action']):\n",
    "                ini_temp = [initial_P,k,data['reward_matrix'][k],False]\n",
    "                env['P'][i][j].append(ini_temp)\n",
    "            \n",
    "    return env\n",
    "    "
   ]
  },
  {
   "cell_type": "code",
   "execution_count": 956,
   "id": "e9897526-e04a-4ee6-b81f-8e465d9552e7",
   "metadata": {},
   "outputs": [],
   "source": [
    "env = initialze_value(data)"
   ]
  },
  {
   "cell_type": "code",
   "execution_count": 957,
   "id": "13260c1b-199a-4b53-a91c-6737342656b8",
   "metadata": {},
   "outputs": [
    {
     "data": {
      "text/plain": [
       "[0.07142857142857142, 3, 1, False]"
      ]
     },
     "execution_count": 957,
     "metadata": {},
     "output_type": "execute_result"
    }
   ],
   "source": [
    "env['P'][3][3][3]"
   ]
  },
  {
   "cell_type": "code",
   "execution_count": 958,
   "id": "e8d02f5b-b428-4dd3-a6f7-25deefde56c4",
   "metadata": {},
   "outputs": [],
   "source": [
    "def change_reward(envp):\n",
    "    for i in range(0,envp['n_action']):\n",
    "        for j in range(0,envp['n_action']):\n",
    "            for k in range(0,envp['n_action']):\n",
    "                if k==0:\n",
    "                    env['P'][i][j][k][2]= -9999\n",
    "                    env['P'][i][j][k][3]= True\n",
    "                    break\n",
    "    return envp"
   ]
  },
  {
   "cell_type": "code",
   "execution_count": null,
   "id": "8915303e-103a-435e-b08e-eee538e6475b",
   "metadata": {},
   "outputs": [],
   "source": []
  },
  {
   "cell_type": "code",
   "execution_count": 1262,
   "id": "e02345cc-add1-412b-8fd5-f860e79b640f",
   "metadata": {},
   "outputs": [],
   "source": [
    "def value_iteration(env,gamma=0.99,eps=1e-6):\n",
    "    V = np.random.uniform(size=(env['n_state'],1))\n",
    "    tick,V_dists,V_list,Q_list = 0,[],[],[]\n",
    "    rm_lst = []\n",
    "    while True:\n",
    "        #Change_prob\n",
    "        tick = tick + 1\n",
    "        Q = np.zeros(shape=(env['n_state'],env['n_action']))\n",
    "        for s in env['P'].keys():\n",
    "            env['visited_nodes'] =[]\n",
    "            for a in env['P'][s].keys():\n",
    "                for prob, s_prime, reward, done in env['P'][s][a]:\n",
    "                    if s_prime not  in rm_lst:\n",
    "                        prob = 10\n",
    "                    if a in rm_lst:\n",
    "                        prob = 100\n",
    "                    Q[s,a] +=(reward*(1/env['distance_matrix'][s//15][a])+ gamma*V[s_prime]*(1/env['distance_matrix'][s//15][a]))*prob        \n",
    "                    if a not in rm_lst:\n",
    "                        rm_lst.append(a)\n",
    "        V_prime = np.max(Q,axis=1)\n",
    "        V_dist = np.max(np.abs(V*(1/env['distance_matrix'][s//15][a])-V_prime))\n",
    "        V_dists.append(V_dist)\n",
    "        V = V_prime # update\n",
    "        V_list.append(V)\n",
    "        Q_list.append(Q)\n",
    "        if V_dist < eps:\n",
    "            break\n",
    "        if(tick==100):\n",
    "            break\n",
    "    return Q,V,V_dists,V_list,Q_list\n",
    "        \n",
    "            \n",
    "            \n",
    "            \n",
    "            \n",
    "    "
   ]
  },
  {
   "cell_type": "code",
   "execution_count": 1263,
   "id": "72063f40-8b26-44db-a028-432ef295f32c",
   "metadata": {},
   "outputs": [],
   "source": [
    "Q,V,V_dists,V_list,Q_list =value_iteration(env)"
   ]
  },
  {
   "cell_type": "code",
   "execution_count": 1264,
   "id": "1dbca66d-a2a8-41d3-94d7-0071ccfa028e",
   "metadata": {},
   "outputs": [],
   "source": [
    "Pi = np.zeros((env['n_state'],env['n_action']))\n",
    "Pi[np.arange(env['n_state']),np.argmax(Q,axis=1)] = 1"
   ]
  },
  {
   "cell_type": "code",
   "execution_count": 1265,
   "id": "c1347f3b-7735-496d-9b24-aafe57ea8219",
   "metadata": {},
   "outputs": [],
   "source": [
    "lst =[]\n",
    "for p in Pi:\n",
    "    a =np.where(p==1)[0][0]\n",
    "    lst.append(a)"
   ]
  },
  {
   "cell_type": "code",
   "execution_count": 1266,
   "id": "c9c63c2d-687c-4b0c-9e77-e6b70bfa0f6c",
   "metadata": {},
   "outputs": [
    {
     "data": {
      "text/plain": [
       "[<matplotlib.lines.Line2D at 0x1b66432ae50>]"
      ]
     },
     "execution_count": 1266,
     "metadata": {},
     "output_type": "execute_result"
    },
    {
     "data": {
      "image/png": "[encoded data removed]",
      "text/plain": [
       "<Figure size 432x288 with 1 Axes>"
      ]
     },
     "metadata": {
      "needs_background": "light"
     },
     "output_type": "display_data"
    }
   ],
   "source": [
    "plt.plot(V_dists)"
   ]
  },
  {
   "cell_type": "code",
   "execution_count": 1252,
   "id": "7e6ba39d-6503-4377-ba45-273517da14ec",
   "metadata": {},
   "outputs": [],
   "source": [
    "Pi[np.arange(env['n_state']),np.argmax(Q,axis=1)] = 1"
   ]
  },
  {
   "cell_type": "code",
   "execution_count": null,
   "id": "d099bda5-3b16-4d99-ad36-a14158bda222",
   "metadata": {},
   "outputs": [],
   "source": []
  },
  {
   "cell_type": "code",
   "execution_count": 1269,
   "id": "3099c588-c5a1-4e1f-b23f-28731f478090",
   "metadata": {},
   "outputs": [
    {
     "name": "stdout",
     "output_type": "stream",
     "text": [
      "\n",
      " tick:[0]\n",
      "[0]\n",
      "\n",
      " tick:[1]\n",
      "[0, 4]\n",
      "\n",
      " tick:[2]\n",
      "[0, 4, 3]\n",
      "\n",
      " tick:[3]\n",
      "[0, 4, 3, 5]\n",
      "\n",
      " tick:[4]\n",
      "[0, 4, 3, 5, 14]\n",
      "\n",
      " tick:[5]\n",
      "[0, 4, 3, 5, 14, 1]\n",
      "\n",
      " tick:[6]\n",
      "[0, 4, 3, 5, 14, 1, 11]\n",
      "\n",
      " tick:[7]\n",
      "[0, 4, 3, 5, 14, 1, 11, 7]\n",
      "\n",
      " tick:[8]\n",
      "[0, 4, 3, 5, 14, 1, 11, 7, 8]\n",
      "\n",
      " tick:[9]\n",
      "[0, 4, 3, 5, 14, 1, 11, 7, 8, 10]\n",
      "\n",
      " tick:[10]\n",
      "[0, 4, 3, 5, 14, 1, 11, 7, 8, 10, 13]\n",
      "\n",
      " tick:[11]\n",
      "[0, 4, 3, 5, 14, 1, 11, 7, 8, 10, 13, 6]\n",
      "\n",
      " tick:[12]\n",
      "[0, 4, 3, 5, 14, 1, 11, 7, 8, 10, 13, 6, 12]\n",
      "\n",
      " tick:[13]\n",
      "[0, 4, 3, 5, 14, 1, 11, 7, 8, 10, 13, 6, 12, 2]\n"
     ]
    }
   ],
   "source": [
    "# Initialize environment\n",
    "ret = 0\n",
    "env['visited_nodes'] =[0]\n",
    "for tick in range(100):\n",
    "    obs = np.random.choice(env['n_state'],1)[0]\n",
    "    action =np.where(Pi[obs][:]==1)[0][0]\n",
    "    while action in env['visited_nodes']:\n",
    "        obs = np.random.choice(env['n_state'],1)[0] # select action\n",
    "        action =np.where(Pi[obs][:]==1)[0][0]\n",
    "        if action not in env['visited_nodes']:\n",
    "            break\n",
    "        \n",
    "    print(\"\\n tick:[{}]\".format(tick))\n",
    "    print(env['visited_nodes'])\n",
    "    env['visited_nodes'].append(action)\n",
    "    #if(len(env['visited_nodes'])==14):\n",
    "    #    env =change_reward(env)\n",
    "    #next_obs,reward,done,info = env.step(action)\n",
    "    #obs = next_obs\n",
    "    #ret = reward + gamma*ret \n",
    "    if len(env['visited_nodes']) >14:\n",
    "        break"
   ]
  },
  {
   "cell_type": "code",
   "execution_count": 1270,
   "id": "195de70b-fe05-4baa-a5a5-7f8ec978c9c6",
   "metadata": {},
   "outputs": [
    {
     "data": {
      "text/plain": [
       "15"
      ]
     },
     "execution_count": 1270,
     "metadata": {},
     "output_type": "execute_result"
    }
   ],
   "source": [
    "len(env['visited_nodes'])"
   ]
  },
  {
   "cell_type": "code",
   "execution_count": 1271,
   "id": "6dde9887-799a-466d-95ce-64b0755db274",
   "metadata": {},
   "outputs": [
    {
     "data": {
      "text/plain": [
       "196"
      ]
     },
     "execution_count": 1271,
     "metadata": {},
     "output_type": "execute_result"
    }
   ],
   "source": [
    "np.random.choice(224,1)[0]"
   ]
  },
  {
   "cell_type": "code",
   "execution_count": 1272,
   "id": "0bedaf80-de3f-41b3-b534-71d4f6fecc66",
   "metadata": {},
   "outputs": [
    {
     "data": {
      "text/plain": [
       "[0, 4, 3, 5, 14, 1, 11, 7, 8, 10, 13, 6, 12, 2, 9]"
      ]
     },
     "execution_count": 1272,
     "metadata": {},
     "output_type": "execute_result"
    }
   ],
   "source": [
    "env['visited_nodes']"
   ]
  },
  {
   "cell_type": "code",
   "execution_count": null,
   "id": "da4cf15f-ac6e-46df-9fff-51965955721b",
   "metadata": {},
   "outputs": [],
   "source": []
  },
  {
   "cell_type": "code",
   "execution_count": null,
   "id": "218f8575-5fb2-4740-9217-64164d618e1f",
   "metadata": {},
   "outputs": [],
   "source": []
  },
  {
   "cell_type": "code",
   "execution_count": 1273,
   "id": "f2ac1761-a163-4ecd-946e-41d220090374",
   "metadata": {},
   "outputs": [
    {
     "data": {
      "text/plain": [
       "array([1., 0., 0., 0., 0., 0., 0., 0., 0., 0., 0., 0., 0., 0., 0.])"
      ]
     },
     "execution_count": 1273,
     "metadata": {},
     "output_type": "execute_result"
    }
   ],
   "source": [
    "Pi[11]"
   ]
  },
  {
   "cell_type": "code",
   "execution_count": null,
   "id": "692444ef-5be9-4027-8d2a-97a1e39f836d",
   "metadata": {},
   "outputs": [],
   "source": []
  },
  {
   "cell_type": "code",
   "execution_count": null,
   "id": "6e4aae49-d0ea-4179-99f8-0b3ca3602ade",
   "metadata": {},
   "outputs": [],
   "source": []
  },
  {
   "cell_type": "code",
   "execution_count": null,
   "id": "703bef62-445a-4ad4-8829-5a87308f4d19",
   "metadata": {},
   "outputs": [],
   "source": []
  }
 ],
 "metadata": {
  "kernelspec": {
   "display_name": "Python 3 (ipykernel)",
   "language": "python",
   "name": "python3"
  },
  "language_info": {
   "codemirror_mode": {
    "name": "ipython",
    "version": 3
   },
   "file_extension": ".py",
   "mimetype": "text/x-python",
   "name": "python",
   "nbconvert_exporter": "python",
   "pygments_lexer": "ipython3",
   "version": "3.8.11"
  }
 },
 "nbformat": 4,
 "nbformat_minor": 5
}
