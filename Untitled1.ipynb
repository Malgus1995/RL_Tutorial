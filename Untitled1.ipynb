{
 "cells": [
  {
   "cell_type": "code",
   "execution_count": 1,
   "metadata": {},
   "outputs": [],
   "source": [
    "import pandas as pd\n",
    "import numpy as np\n",
    "import matplotlib.pyplot as plt"
   ]
  },
  {
   "cell_type": "code",
   "execution_count": 8,
   "metadata": {},
   "outputs": [],
   "source": [
    "index = np.arange(len([673,638,616,712,710,689,745,604]))"
   ]
  },
  {
   "cell_type": "code",
   "execution_count": 12,
   "metadata": {},
   "outputs": [
    {
     "data": {
      "text/plain": [
       "([<matplotlib.axis.XTick at 0x287e4c299a0>,\n",
       "  <matplotlib.axis.XTick at 0x287e4c29970>,\n",
       "  <matplotlib.axis.XTick at 0x287e4bf04f0>,\n",
       "  <matplotlib.axis.XTick at 0x287e5172880>,\n",
       "  <matplotlib.axis.XTick at 0x287e5172d90>,\n",
       "  <matplotlib.axis.XTick at 0x287e51724f0>,\n",
       "  <matplotlib.axis.XTick at 0x287e514b490>,\n",
       "  <matplotlib.axis.XTick at 0x287e514b9a0>],\n",
       " [Text(0, 0, 'VI'),\n",
       "  Text(1, 0, 'PI'),\n",
       "  Text(2, 0, 'MC'),\n",
       "  Text(3, 0, 'SARSA'),\n",
       "  Text(4, 0, 'QL'),\n",
       "  Text(5, 0, 'DQL'),\n",
       "  Text(6, 0, 'AC'),\n",
       "  Text(7, 0, 'RL')])"
      ]
     },
     "execution_count": 12,
     "metadata": {},
     "output_type": "execute_result"
    },
    {
     "data": {
      "image/png": "[encoded data removed]",
      "text/plain": [
       "<Figure size 432x288 with 1 Axes>"
      ]
     },
     "metadata": {
      "needs_background": "light"
     },
     "output_type": "display_data"
    }
   ],
   "source": [
    "plt.bar(index,[673,638,616,712,710,689,745,604])\n",
    "plt.title('Distance of models tour list')\n",
    "plt.xticks(index,['VI','PI','MC','SARSA','QL','DQL','AC','RL'])"
   ]
  },
  {
   "cell_type": "code",
   "execution_count": 28,
   "metadata": {},
   "outputs": [],
   "source": []
  },
  {
   "cell_type": "code",
   "execution_count": null,
   "metadata": {},
   "outputs": [],
   "source": []
  }
 ],
 "metadata": {
  "kernelspec": {
   "display_name": "Python 3",
   "language": "python",
   "name": "python3"
  },
  "language_info": {
   "codemirror_mode": {
    "name": "ipython",
    "version": 3
   },
   "file_extension": ".py",
   "mimetype": "text/x-python",
   "name": "python",
   "nbconvert_exporter": "python",
   "pygments_lexer": "ipython3",
   "version": "3.8.8"
  }
 },
 "nbformat": 4,
 "nbformat_minor": 4
}
